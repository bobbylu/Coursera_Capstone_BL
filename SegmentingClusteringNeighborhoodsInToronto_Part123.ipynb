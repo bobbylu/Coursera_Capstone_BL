{
 "cells": [
  {
   "cell_type": "markdown",
   "metadata": {},
   "source": [
    "# Segmenting and Clustering Neighborhoods in Toronto_Part1"
   ]
  },
  {
   "cell_type": "code",
   "execution_count": 1,
   "metadata": {},
   "outputs": [
    {
     "name": "stderr",
     "output_type": "stream",
     "text": [
      "usage: conda-script.py [-h] [-V] command ...\n",
      "conda-script.py: error: unrecognized arguments: # uncomment this line if you haven't completed the Foursquare API lab\n"
     ]
    },
    {
     "name": "stdout",
     "output_type": "stream",
     "text": [
      "Libraries imported.\n"
     ]
    }
   ],
   "source": [
    "#import all libraries\n",
    "import numpy as np # library to handle data in a vectorized manner\n",
    "\n",
    "import pandas as pd # library for data analsysis\n",
    "\n",
    "import json # library to handle JSON files\n",
    "\n",
    "!conda install -c conda-forge geopy --yes # uncomment this line if you haven't completed the Foursquare API lab\n",
    "from geopy.geocoders import Nominatim # convert an address into latitude and longitude values\n",
    "\n",
    "import requests # library to handle requests\n",
    "from pandas.io.json import json_normalize # tranform JSON file into a pandas dataframe\n",
    "\n",
    "# Matplotlib and associated plotting modules\n",
    "import matplotlib.cm as cm\n",
    "import matplotlib.colors as colors\n",
    "\n",
    "# import k-means from clustering stage\n",
    "from sklearn.cluster import KMeans\n",
    "\n",
    "#!conda install -c conda-forge folium=0.5.0 --yes # uncomment this line if you haven't completed the Foursquare API lab\n",
    "import folium # map rendering library\n",
    "\n",
    "print('Libraries imported.')"
   ]
  },
  {
   "cell_type": "markdown",
   "metadata": {},
   "source": [
    "### scraping"
   ]
  },
  {
   "cell_type": "code",
   "execution_count": 42,
   "metadata": {},
   "outputs": [
    {
     "name": "stdout",
     "output_type": "stream",
     "text": [
      "<title>List of postal codes of Canada: M - Wikipedia</title>\n"
     ]
    }
   ],
   "source": [
    "from bs4 import BeautifulSoup\n",
    "from IPython.display import display_html\n",
    "url='https://en.wikipedia.org/wiki/List_of_postal_codes_of_Canada:_M'\n",
    "source = requests.get(url).text\n",
    "soup=BeautifulSoup(source,'lxml')\n",
    "print(soup.title)\n",
    "tab = str(soup.table)"
   ]
  },
  {
   "cell_type": "markdown",
   "metadata": {},
   "source": [
    "### get the table to dataframe"
   ]
  },
  {
   "cell_type": "code",
   "execution_count": 43,
   "metadata": {},
   "outputs": [
    {
     "data": {
      "text/html": [
       "<div>\n",
       "<style>\n",
       "    .dataframe thead tr:only-child th {\n",
       "        text-align: right;\n",
       "    }\n",
       "\n",
       "    .dataframe thead th {\n",
       "        text-align: left;\n",
       "    }\n",
       "\n",
       "    .dataframe tbody tr th {\n",
       "        vertical-align: top;\n",
       "    }\n",
       "</style>\n",
       "<table border=\"1\" class=\"dataframe\">\n",
       "  <thead>\n",
       "    <tr style=\"text-align: right;\">\n",
       "      <th></th>\n",
       "      <th>Postal Code</th>\n",
       "      <th>Borough</th>\n",
       "      <th>Neighbourhood</th>\n",
       "    </tr>\n",
       "  </thead>\n",
       "  <tbody>\n",
       "    <tr>\n",
       "      <th>1</th>\n",
       "      <td>M1A</td>\n",
       "      <td>Not assigned</td>\n",
       "      <td>Not assigned</td>\n",
       "    </tr>\n",
       "    <tr>\n",
       "      <th>2</th>\n",
       "      <td>M2A</td>\n",
       "      <td>Not assigned</td>\n",
       "      <td>Not assigned</td>\n",
       "    </tr>\n",
       "    <tr>\n",
       "      <th>3</th>\n",
       "      <td>M3A</td>\n",
       "      <td>North York</td>\n",
       "      <td>Parkwoods</td>\n",
       "    </tr>\n",
       "    <tr>\n",
       "      <th>4</th>\n",
       "      <td>M4A</td>\n",
       "      <td>North York</td>\n",
       "      <td>Victoria Village</td>\n",
       "    </tr>\n",
       "    <tr>\n",
       "      <th>5</th>\n",
       "      <td>M5A</td>\n",
       "      <td>Downtown Toronto</td>\n",
       "      <td>Regent Park, Harbourfront</td>\n",
       "    </tr>\n",
       "  </tbody>\n",
       "</table>\n",
       "</div>"
      ],
      "text/plain": [
       "0 Postal Code           Borough              Neighbourhood\n",
       "1         M1A      Not assigned               Not assigned\n",
       "2         M2A      Not assigned               Not assigned\n",
       "3         M3A        North York                  Parkwoods\n",
       "4         M4A        North York           Victoria Village\n",
       "5         M5A  Downtown Toronto  Regent Park, Harbourfront"
      ]
     },
     "execution_count": 43,
     "metadata": {},
     "output_type": "execute_result"
    }
   ],
   "source": [
    "dfs = pd.read_html(tab)\n",
    "df=dfs[0]\n",
    "df.columns = df.iloc[0]\n",
    "df.drop(df.index[0],inplace = True)\n",
    "df.head()"
   ]
  },
  {
   "cell_type": "markdown",
   "metadata": {},
   "source": [
    "### data cleaning and processing"
   ]
  },
  {
   "cell_type": "code",
   "execution_count": 47,
   "metadata": {},
   "outputs": [
    {
     "data": {
      "text/html": [
       "<div>\n",
       "<style>\n",
       "    .dataframe thead tr:only-child th {\n",
       "        text-align: right;\n",
       "    }\n",
       "\n",
       "    .dataframe thead th {\n",
       "        text-align: left;\n",
       "    }\n",
       "\n",
       "    .dataframe tbody tr th {\n",
       "        vertical-align: top;\n",
       "    }\n",
       "</style>\n",
       "<table border=\"1\" class=\"dataframe\">\n",
       "  <thead>\n",
       "    <tr style=\"text-align: right;\">\n",
       "      <th></th>\n",
       "      <th>Postal Code</th>\n",
       "      <th>Borough</th>\n",
       "      <th>Neighbourhood</th>\n",
       "    </tr>\n",
       "  </thead>\n",
       "  <tbody>\n",
       "    <tr>\n",
       "      <th>3</th>\n",
       "      <td>M3A</td>\n",
       "      <td>North York</td>\n",
       "      <td>Parkwoods</td>\n",
       "    </tr>\n",
       "    <tr>\n",
       "      <th>4</th>\n",
       "      <td>M4A</td>\n",
       "      <td>North York</td>\n",
       "      <td>Victoria Village</td>\n",
       "    </tr>\n",
       "    <tr>\n",
       "      <th>5</th>\n",
       "      <td>M5A</td>\n",
       "      <td>Downtown Toronto</td>\n",
       "      <td>Regent Park, Harbourfront</td>\n",
       "    </tr>\n",
       "    <tr>\n",
       "      <th>6</th>\n",
       "      <td>M6A</td>\n",
       "      <td>North York</td>\n",
       "      <td>Lawrence Manor, Lawrence Heights</td>\n",
       "    </tr>\n",
       "    <tr>\n",
       "      <th>7</th>\n",
       "      <td>M7A</td>\n",
       "      <td>Downtown Toronto</td>\n",
       "      <td>Queen's Park, Ontario Provincial Government</td>\n",
       "    </tr>\n",
       "  </tbody>\n",
       "</table>\n",
       "</div>"
      ],
      "text/plain": [
       "0 Postal Code           Borough                                Neighbourhood\n",
       "3         M3A        North York                                    Parkwoods\n",
       "4         M4A        North York                             Victoria Village\n",
       "5         M5A  Downtown Toronto                    Regent Park, Harbourfront\n",
       "6         M6A        North York             Lawrence Manor, Lawrence Heights\n",
       "7         M7A  Downtown Toronto  Queen's Park, Ontario Provincial Government"
      ]
     },
     "execution_count": 47,
     "metadata": {},
     "output_type": "execute_result"
    }
   ],
   "source": [
    "#Only process the cells that have an assigned borough. Ignore cells with a borough that is Not assigned.\n",
    "df = df[df.Borough != 'Not assigned']\n",
    "df.head()"
   ]
  },
  {
   "cell_type": "code",
   "execution_count": 51,
   "metadata": {},
   "outputs": [
    {
     "name": "stdout",
     "output_type": "stream",
     "text": [
      "Wiki has been updated so that there are no duplicated Postal Code \n"
     ]
    }
   ],
   "source": [
    "# Combining the neighbourhoods with same Postal Code\n",
    "if (df.shape[0] - len(df['Postal Code'].unique())) == 0:\n",
    "    print ('Wiki has been updated so that there are no duplicated Postal Code')"
   ]
  },
  {
   "cell_type": "code",
   "execution_count": 54,
   "metadata": {},
   "outputs": [],
   "source": [
    "#If a cell has a borough but a Not assigned neighborhood, then the neighborhood will be the same as the borough\n",
    "df['Neighbourhood'] = np.where(df['Neighbourhood'] == 'Not assigned',df['Borough'], df['Neighbourhood'])"
   ]
  },
  {
   "cell_type": "code",
   "execution_count": 56,
   "metadata": {
    "collapsed": true
   },
   "outputs": [],
   "source": [
    "df.rename(columns = {'Postal Code': 'PostalCode', 'Neighbourhood':'Neighborhood'}, inplace = True)"
   ]
  },
  {
   "cell_type": "code",
   "execution_count": 58,
   "metadata": {},
   "outputs": [
    {
     "data": {
      "text/html": [
       "<div>\n",
       "<style>\n",
       "    .dataframe thead tr:only-child th {\n",
       "        text-align: right;\n",
       "    }\n",
       "\n",
       "    .dataframe thead th {\n",
       "        text-align: left;\n",
       "    }\n",
       "\n",
       "    .dataframe tbody tr th {\n",
       "        vertical-align: top;\n",
       "    }\n",
       "</style>\n",
       "<table border=\"1\" class=\"dataframe\">\n",
       "  <thead>\n",
       "    <tr style=\"text-align: right;\">\n",
       "      <th></th>\n",
       "      <th>PostalCode</th>\n",
       "      <th>Borough</th>\n",
       "      <th>Neighborhood</th>\n",
       "    </tr>\n",
       "  </thead>\n",
       "  <tbody>\n",
       "    <tr>\n",
       "      <th>3</th>\n",
       "      <td>M3A</td>\n",
       "      <td>North York</td>\n",
       "      <td>Parkwoods</td>\n",
       "    </tr>\n",
       "    <tr>\n",
       "      <th>4</th>\n",
       "      <td>M4A</td>\n",
       "      <td>North York</td>\n",
       "      <td>Victoria Village</td>\n",
       "    </tr>\n",
       "    <tr>\n",
       "      <th>5</th>\n",
       "      <td>M5A</td>\n",
       "      <td>Downtown Toronto</td>\n",
       "      <td>Regent Park, Harbourfront</td>\n",
       "    </tr>\n",
       "    <tr>\n",
       "      <th>6</th>\n",
       "      <td>M6A</td>\n",
       "      <td>North York</td>\n",
       "      <td>Lawrence Manor, Lawrence Heights</td>\n",
       "    </tr>\n",
       "    <tr>\n",
       "      <th>7</th>\n",
       "      <td>M7A</td>\n",
       "      <td>Downtown Toronto</td>\n",
       "      <td>Queen's Park, Ontario Provincial Government</td>\n",
       "    </tr>\n",
       "  </tbody>\n",
       "</table>\n",
       "</div>"
      ],
      "text/plain": [
       "0 PostalCode           Borough                                 Neighborhood\n",
       "3        M3A        North York                                    Parkwoods\n",
       "4        M4A        North York                             Victoria Village\n",
       "5        M5A  Downtown Toronto                    Regent Park, Harbourfront\n",
       "6        M6A        North York             Lawrence Manor, Lawrence Heights\n",
       "7        M7A  Downtown Toronto  Queen's Park, Ontario Provincial Government"
      ]
     },
     "execution_count": 58,
     "metadata": {},
     "output_type": "execute_result"
    }
   ],
   "source": [
    "df.head()"
   ]
  },
  {
   "cell_type": "code",
   "execution_count": 57,
   "metadata": {},
   "outputs": [
    {
     "data": {
      "text/plain": [
       "(103, 3)"
      ]
     },
     "execution_count": 57,
     "metadata": {},
     "output_type": "execute_result"
    }
   ],
   "source": [
    "df.shape"
   ]
  },
  {
   "cell_type": "markdown",
   "metadata": {},
   "source": [
    "# Segmenting and Clustering Neighborhoods in Toronto_Part2"
   ]
  },
  {
   "cell_type": "code",
   "execution_count": 60,
   "metadata": {},
   "outputs": [
    {
     "data": {
      "text/html": [
       "<div>\n",
       "<style>\n",
       "    .dataframe thead tr:only-child th {\n",
       "        text-align: right;\n",
       "    }\n",
       "\n",
       "    .dataframe thead th {\n",
       "        text-align: left;\n",
       "    }\n",
       "\n",
       "    .dataframe tbody tr th {\n",
       "        vertical-align: top;\n",
       "    }\n",
       "</style>\n",
       "<table border=\"1\" class=\"dataframe\">\n",
       "  <thead>\n",
       "    <tr style=\"text-align: right;\">\n",
       "      <th></th>\n",
       "      <th>Postal Code</th>\n",
       "      <th>Latitude</th>\n",
       "      <th>Longitude</th>\n",
       "    </tr>\n",
       "  </thead>\n",
       "  <tbody>\n",
       "    <tr>\n",
       "      <th>0</th>\n",
       "      <td>M1B</td>\n",
       "      <td>43.806686</td>\n",
       "      <td>-79.194353</td>\n",
       "    </tr>\n",
       "    <tr>\n",
       "      <th>1</th>\n",
       "      <td>M1C</td>\n",
       "      <td>43.784535</td>\n",
       "      <td>-79.160497</td>\n",
       "    </tr>\n",
       "    <tr>\n",
       "      <th>2</th>\n",
       "      <td>M1E</td>\n",
       "      <td>43.763573</td>\n",
       "      <td>-79.188711</td>\n",
       "    </tr>\n",
       "    <tr>\n",
       "      <th>3</th>\n",
       "      <td>M1G</td>\n",
       "      <td>43.770992</td>\n",
       "      <td>-79.216917</td>\n",
       "    </tr>\n",
       "    <tr>\n",
       "      <th>4</th>\n",
       "      <td>M1H</td>\n",
       "      <td>43.773136</td>\n",
       "      <td>-79.239476</td>\n",
       "    </tr>\n",
       "  </tbody>\n",
       "</table>\n",
       "</div>"
      ],
      "text/plain": [
       "  Postal Code   Latitude  Longitude\n",
       "0         M1B  43.806686 -79.194353\n",
       "1         M1C  43.784535 -79.160497\n",
       "2         M1E  43.763573 -79.188711\n",
       "3         M1G  43.770992 -79.216917\n",
       "4         M1H  43.773136 -79.239476"
      ]
     },
     "execution_count": 60,
     "metadata": {},
     "output_type": "execute_result"
    }
   ],
   "source": [
    "lat_lon = pd.read_csv('https://cocl.us/Geospatial_data')\n",
    "lat_lon.head()"
   ]
  },
  {
   "cell_type": "code",
   "execution_count": 61,
   "metadata": {},
   "outputs": [
    {
     "data": {
      "text/html": [
       "<div>\n",
       "<style>\n",
       "    .dataframe thead tr:only-child th {\n",
       "        text-align: right;\n",
       "    }\n",
       "\n",
       "    .dataframe thead th {\n",
       "        text-align: left;\n",
       "    }\n",
       "\n",
       "    .dataframe tbody tr th {\n",
       "        vertical-align: top;\n",
       "    }\n",
       "</style>\n",
       "<table border=\"1\" class=\"dataframe\">\n",
       "  <thead>\n",
       "    <tr style=\"text-align: right;\">\n",
       "      <th></th>\n",
       "      <th>PostalCode</th>\n",
       "      <th>Borough</th>\n",
       "      <th>Neighborhood</th>\n",
       "      <th>Latitude</th>\n",
       "      <th>Longitude</th>\n",
       "    </tr>\n",
       "  </thead>\n",
       "  <tbody>\n",
       "    <tr>\n",
       "      <th>0</th>\n",
       "      <td>M3A</td>\n",
       "      <td>North York</td>\n",
       "      <td>Parkwoods</td>\n",
       "      <td>43.753259</td>\n",
       "      <td>-79.329656</td>\n",
       "    </tr>\n",
       "    <tr>\n",
       "      <th>1</th>\n",
       "      <td>M4A</td>\n",
       "      <td>North York</td>\n",
       "      <td>Victoria Village</td>\n",
       "      <td>43.725882</td>\n",
       "      <td>-79.315572</td>\n",
       "    </tr>\n",
       "    <tr>\n",
       "      <th>2</th>\n",
       "      <td>M5A</td>\n",
       "      <td>Downtown Toronto</td>\n",
       "      <td>Regent Park, Harbourfront</td>\n",
       "      <td>43.654260</td>\n",
       "      <td>-79.360636</td>\n",
       "    </tr>\n",
       "    <tr>\n",
       "      <th>3</th>\n",
       "      <td>M6A</td>\n",
       "      <td>North York</td>\n",
       "      <td>Lawrence Manor, Lawrence Heights</td>\n",
       "      <td>43.718518</td>\n",
       "      <td>-79.464763</td>\n",
       "    </tr>\n",
       "    <tr>\n",
       "      <th>4</th>\n",
       "      <td>M7A</td>\n",
       "      <td>Downtown Toronto</td>\n",
       "      <td>Queen's Park, Ontario Provincial Government</td>\n",
       "      <td>43.662301</td>\n",
       "      <td>-79.389494</td>\n",
       "    </tr>\n",
       "  </tbody>\n",
       "</table>\n",
       "</div>"
      ],
      "text/plain": [
       "  PostalCode           Borough                                 Neighborhood  \\\n",
       "0        M3A        North York                                    Parkwoods   \n",
       "1        M4A        North York                             Victoria Village   \n",
       "2        M5A  Downtown Toronto                    Regent Park, Harbourfront   \n",
       "3        M6A        North York             Lawrence Manor, Lawrence Heights   \n",
       "4        M7A  Downtown Toronto  Queen's Park, Ontario Provincial Government   \n",
       "\n",
       "    Latitude  Longitude  \n",
       "0  43.753259 -79.329656  \n",
       "1  43.725882 -79.315572  \n",
       "2  43.654260 -79.360636  \n",
       "3  43.718518 -79.464763  \n",
       "4  43.662301 -79.389494  "
      ]
     },
     "execution_count": 61,
     "metadata": {},
     "output_type": "execute_result"
    }
   ],
   "source": [
    "lat_lon.rename(columns={'Postal Code':'PostalCode'},inplace=True)\n",
    "df_spatial = pd.merge(df,lat_lon,on='PostalCode')\n",
    "df_spatial.head()"
   ]
  },
  {
   "cell_type": "markdown",
   "metadata": {},
   "source": [
    "# Segmenting and Clustering Neighborhoods in Toronto_Part3"
   ]
  },
  {
   "cell_type": "markdown",
   "metadata": {},
   "source": [
    "### clustering using K Means"
   ]
  },
  {
   "cell_type": "code",
   "execution_count": 70,
   "metadata": {},
   "outputs": [
    {
     "data": {
      "text/html": [
       "<div>\n",
       "<style>\n",
       "    .dataframe thead tr:only-child th {\n",
       "        text-align: right;\n",
       "    }\n",
       "\n",
       "    .dataframe thead th {\n",
       "        text-align: left;\n",
       "    }\n",
       "\n",
       "    .dataframe tbody tr th {\n",
       "        vertical-align: top;\n",
       "    }\n",
       "</style>\n",
       "<table border=\"1\" class=\"dataframe\">\n",
       "  <thead>\n",
       "    <tr style=\"text-align: right;\">\n",
       "      <th></th>\n",
       "      <th>PostalCode</th>\n",
       "      <th>Borough</th>\n",
       "      <th>Neighborhood</th>\n",
       "      <th>Latitude</th>\n",
       "      <th>Longitude</th>\n",
       "    </tr>\n",
       "  </thead>\n",
       "  <tbody>\n",
       "    <tr>\n",
       "      <th>2</th>\n",
       "      <td>M5A</td>\n",
       "      <td>Downtown Toronto</td>\n",
       "      <td>Regent Park, Harbourfront</td>\n",
       "      <td>43.654260</td>\n",
       "      <td>-79.360636</td>\n",
       "    </tr>\n",
       "    <tr>\n",
       "      <th>4</th>\n",
       "      <td>M7A</td>\n",
       "      <td>Downtown Toronto</td>\n",
       "      <td>Queen's Park, Ontario Provincial Government</td>\n",
       "      <td>43.662301</td>\n",
       "      <td>-79.389494</td>\n",
       "    </tr>\n",
       "    <tr>\n",
       "      <th>9</th>\n",
       "      <td>M5B</td>\n",
       "      <td>Downtown Toronto</td>\n",
       "      <td>Garden District, Ryerson</td>\n",
       "      <td>43.657162</td>\n",
       "      <td>-79.378937</td>\n",
       "    </tr>\n",
       "    <tr>\n",
       "      <th>15</th>\n",
       "      <td>M5C</td>\n",
       "      <td>Downtown Toronto</td>\n",
       "      <td>St. James Town</td>\n",
       "      <td>43.651494</td>\n",
       "      <td>-79.375418</td>\n",
       "    </tr>\n",
       "    <tr>\n",
       "      <th>19</th>\n",
       "      <td>M4E</td>\n",
       "      <td>East Toronto</td>\n",
       "      <td>The Beaches</td>\n",
       "      <td>43.676357</td>\n",
       "      <td>-79.293031</td>\n",
       "    </tr>\n",
       "  </tbody>\n",
       "</table>\n",
       "</div>"
      ],
      "text/plain": [
       "   PostalCode           Borough                                 Neighborhood  \\\n",
       "2         M5A  Downtown Toronto                    Regent Park, Harbourfront   \n",
       "4         M7A  Downtown Toronto  Queen's Park, Ontario Provincial Government   \n",
       "9         M5B  Downtown Toronto                     Garden District, Ryerson   \n",
       "15        M5C  Downtown Toronto                               St. James Town   \n",
       "19        M4E      East Toronto                                  The Beaches   \n",
       "\n",
       "     Latitude  Longitude  \n",
       "2   43.654260 -79.360636  \n",
       "4   43.662301 -79.389494  \n",
       "9   43.657162 -79.378937  \n",
       "15  43.651494 -79.375418  \n",
       "19  43.676357 -79.293031  "
      ]
     },
     "execution_count": 70,
     "metadata": {},
     "output_type": "execute_result"
    }
   ],
   "source": [
    "#get Toronto Data for simplicity\n",
    "Toronto_data = df_spatial[df_spatial['Borough'].str.contains('Toronto')]\n",
    "Toronto_data.head()"
   ]
  },
  {
   "cell_type": "markdown",
   "metadata": {},
   "source": [
    "### visualize Toronto using Folium"
   ]
  },
  {
   "cell_type": "code",
   "execution_count": 65,
   "metadata": {},
   "outputs": [
    {
     "data": {
      "text/html": [
       "<div style=\"width:100%;\"><div style=\"position:relative;width:100%;height:0;padding-bottom:60%;\"><iframe src=\"data:text/html;charset=utf-8;base64,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\" style=\"position:absolute;width:100%;height:100%;left:0;top:0;border:none !important;\" allowfullscreen webkitallowfullscreen mozallowfullscreen></iframe></div></div>"
      ],
      "text/plain": [
       "<folium.folium.Map at 0xda3fa20>"
      ]
     },
     "execution_count": 65,
     "metadata": {},
     "output_type": "execute_result"
    }
   ],
   "source": [
    "toronto_map = folium.Map(location=[43.651070,-79.347015],zoom_start=12)\n",
    "\n",
    "for lat,lng,borough,neighborhood in zip(Toronto_data['Latitude'],Toronto_data['Longitude'],Toronto_data['Borough'],Toronto_data['Neighborhood']):\n",
    "    label = '{}, {}'.format(neighborhood, borough)\n",
    "    label = folium.Popup(label, parse_html=True)\n",
    "    folium.CircleMarker(\n",
    "    [lat,lng],\n",
    "    radius=5,\n",
    "    popup=label,\n",
    "    color='yellow',\n",
    "    fill=True,\n",
    "    fill_color='#3186cc',\n",
    "    fill_opacity=0.7,\n",
    "    parse_html=False).add_to(toronto_map)\n",
    "    \n",
    "toronto_map"
   ]
  },
  {
   "cell_type": "markdown",
   "metadata": {},
   "source": [
    "### clustering neighborhoods"
   ]
  },
  {
   "cell_type": "code",
   "execution_count": 67,
   "metadata": {},
   "outputs": [
    {
     "data": {
      "text/plain": [
       "array([1, 1, 1, 1, 3])"
      ]
     },
     "execution_count": 67,
     "metadata": {},
     "output_type": "execute_result"
    }
   ],
   "source": [
    "# set number of clusters\n",
    "k = 4\n",
    "\n",
    "toronto_clustering = Toronto_data.drop(['PostalCode','Borough','Neighborhood'],1)\n",
    "\n",
    "# run k-means clustering\n",
    "kmeans = KMeans(n_clusters=k, random_state=0).fit(toronto_clustering )\n",
    "\n",
    "# check cluster labels generated for each row in the dataframe\n",
    "kmeans.labels_[0:5] "
   ]
  },
  {
   "cell_type": "code",
   "execution_count": 71,
   "metadata": {},
   "outputs": [
    {
     "data": {
      "text/html": [
       "<div>\n",
       "<style>\n",
       "    .dataframe thead tr:only-child th {\n",
       "        text-align: right;\n",
       "    }\n",
       "\n",
       "    .dataframe thead th {\n",
       "        text-align: left;\n",
       "    }\n",
       "\n",
       "    .dataframe tbody tr th {\n",
       "        vertical-align: top;\n",
       "    }\n",
       "</style>\n",
       "<table border=\"1\" class=\"dataframe\">\n",
       "  <thead>\n",
       "    <tr style=\"text-align: right;\">\n",
       "      <th></th>\n",
       "      <th>Cluster Labels</th>\n",
       "      <th>PostalCode</th>\n",
       "      <th>Borough</th>\n",
       "      <th>Neighborhood</th>\n",
       "      <th>Latitude</th>\n",
       "      <th>Longitude</th>\n",
       "    </tr>\n",
       "  </thead>\n",
       "  <tbody>\n",
       "    <tr>\n",
       "      <th>2</th>\n",
       "      <td>1</td>\n",
       "      <td>M5A</td>\n",
       "      <td>Downtown Toronto</td>\n",
       "      <td>Regent Park, Harbourfront</td>\n",
       "      <td>43.654260</td>\n",
       "      <td>-79.360636</td>\n",
       "    </tr>\n",
       "    <tr>\n",
       "      <th>4</th>\n",
       "      <td>1</td>\n",
       "      <td>M7A</td>\n",
       "      <td>Downtown Toronto</td>\n",
       "      <td>Queen's Park, Ontario Provincial Government</td>\n",
       "      <td>43.662301</td>\n",
       "      <td>-79.389494</td>\n",
       "    </tr>\n",
       "    <tr>\n",
       "      <th>9</th>\n",
       "      <td>1</td>\n",
       "      <td>M5B</td>\n",
       "      <td>Downtown Toronto</td>\n",
       "      <td>Garden District, Ryerson</td>\n",
       "      <td>43.657162</td>\n",
       "      <td>-79.378937</td>\n",
       "    </tr>\n",
       "    <tr>\n",
       "      <th>15</th>\n",
       "      <td>1</td>\n",
       "      <td>M5C</td>\n",
       "      <td>Downtown Toronto</td>\n",
       "      <td>St. James Town</td>\n",
       "      <td>43.651494</td>\n",
       "      <td>-79.375418</td>\n",
       "    </tr>\n",
       "    <tr>\n",
       "      <th>19</th>\n",
       "      <td>3</td>\n",
       "      <td>M4E</td>\n",
       "      <td>East Toronto</td>\n",
       "      <td>The Beaches</td>\n",
       "      <td>43.676357</td>\n",
       "      <td>-79.293031</td>\n",
       "    </tr>\n",
       "  </tbody>\n",
       "</table>\n",
       "</div>"
      ],
      "text/plain": [
       "    Cluster Labels PostalCode           Borough  \\\n",
       "2                1        M5A  Downtown Toronto   \n",
       "4                1        M7A  Downtown Toronto   \n",
       "9                1        M5B  Downtown Toronto   \n",
       "15               1        M5C  Downtown Toronto   \n",
       "19               3        M4E      East Toronto   \n",
       "\n",
       "                                   Neighborhood   Latitude  Longitude  \n",
       "2                     Regent Park, Harbourfront  43.654260 -79.360636  \n",
       "4   Queen's Park, Ontario Provincial Government  43.662301 -79.389494  \n",
       "9                      Garden District, Ryerson  43.657162 -79.378937  \n",
       "15                               St. James Town  43.651494 -79.375418  \n",
       "19                                  The Beaches  43.676357 -79.293031  "
      ]
     },
     "execution_count": 71,
     "metadata": {},
     "output_type": "execute_result"
    }
   ],
   "source": [
    "#adding labels to data\n",
    "Toronto_data.insert(0, 'Cluster Labels', kmeans.labels_)\n",
    "Toronto_data.head()"
   ]
  },
  {
   "cell_type": "markdown",
   "metadata": {},
   "source": [
    "### visualize clusters"
   ]
  },
  {
   "cell_type": "code",
   "execution_count": 74,
   "metadata": {
    "scrolled": true
   },
   "outputs": [
    {
     "data": {
      "text/html": [
       "<div style=\"width:100%;\"><div style=\"position:relative;width:100%;height:0;padding-bottom:60%;\"><iframe src=\"data:text/html;charset=utf-8;base64,PCFET0NUWVBFIGh0bWw+CjxoZWFkPiAgICAKICAgIDxtZXRhIGh0dHAtZXF1aXY9ImNvbnRlbnQtdHlwZSIgY29udGVudD0idGV4dC9odG1sOyBjaGFyc2V0PVVURi04IiAvPgogICAgPHNjcmlwdD5MX1BSRUZFUl9DQU5WQVMgPSBmYWxzZTsgTF9OT19UT1VDSCA9IGZhbHNlOyBMX0RJU0FCTEVfM0QgPSBmYWxzZTs8L3NjcmlwdD4KICAgIDxzY3JpcHQgc3JjPSJodHRwczovL2Nkbi5qc2RlbGl2ci5uZXQvbnBtL2xlYWZsZXRAMS4yLjAvZGlzdC9sZWFmbGV0LmpzIj48L3NjcmlwdD4KICAgIDxzY3JpcHQgc3JjPSJodHRwczovL2FqYXguZ29vZ2xlYXBpcy5jb20vYWpheC9saWJzL2pxdWVyeS8xLjExLjEvanF1ZXJ5Lm1pbi5qcyI+PC9zY3JpcHQ+CiAgICA8c2NyaXB0IHNyYz0iaHR0cHM6Ly9tYXhjZG4uYm9vdHN0cmFwY2RuLmNvbS9ib290c3RyYXAvMy4yLjAvanMvYm9vdHN0cmFwLm1pbi5qcyI+PC9zY3JpcHQ+CiAgICA8c2NyaXB0IHNyYz0iaHR0cHM6Ly9jZG5qcy5jbG91ZGZsYXJlLmNvbS9hamF4L2xpYnMvTGVhZmxldC5hd2Vzb21lLW1hcmtlcnMvMi4wLjIvbGVhZmxldC5hd2Vzb21lLW1hcmtlcnMuanMiPjwvc2NyaXB0PgogICAgPGxpbmsgcmVsPSJzdHlsZXNoZWV0IiBocmVmPSJodHRwczovL2Nkbi5qc2RlbGl2ci5uZXQvbnBtL2xlYWZsZXRAMS4yLjAvZGlzdC9sZWFmbGV0LmNzcyIgLz4KICAgIDxsaW5rIHJlbD0ic3R5bGVzaGVldCIgaHJlZj0iaHR0cHM6Ly9tYXhjZG4uYm9vdHN0cmFwY2RuLmNvbS9ib290c3RyYXAvMy4yLjAvY3NzL2Jvb3RzdHJhcC5taW4uY3NzIiAvPgogICAgPGxpbmsgcmVsPSJzdHlsZXNoZWV0IiBocmVmPSJodHRwczovL21heGNkbi5ib290c3RyYXBjZG4uY29tL2Jvb3RzdHJhcC8zLjIuMC9jc3MvYm9vdHN0cmFwLXRoZW1lLm1pbi5jc3MiIC8+CiAgICA8bGluayByZWw9InN0eWxlc2hlZXQiIGhyZWY9Imh0dHBzOi8vbWF4Y2RuLmJvb3RzdHJhcGNkbi5jb20vZm9udC1hd2Vzb21lLzQuNi4zL2Nzcy9mb250LWF3ZXNvbWUubWluLmNzcyIgLz4KICAgIDxsaW5rIHJlbD0ic3R5bGVzaGVldCIgaHJlZj0iaHR0cHM6Ly9jZG5qcy5jbG91ZGZsYXJlLmNvbS9hamF4L2xpYnMvTGVhZmxldC5hd2Vzb21lLW1hcmtlcnMvMi4wLjIvbGVhZmxldC5hd2Vzb21lLW1hcmtlcnMuY3NzIiAvPgogICAgPGxpbmsgcmVsPSJzdHlsZXNoZWV0IiBocmVmPSJodHRwczovL3Jhd2dpdC5jb20vcHl0aG9uLXZpc3VhbGl6YXRpb24vZm9saXVtL21hc3Rlci9mb2xpdW0vdGVtcGxhdGVzL2xlYWZsZXQuYXdlc29tZS5yb3RhdGUuY3NzIiAvPgogICAgPHN0eWxlPmh0bWwsIGJvZHkge3dpZHRoOiAxMDAlO2hlaWdodDogMTAwJTttYXJnaW46IDA7cGFkZGluZzogMDt9PC9zdHlsZT4KICAgIDxzdHlsZT4jbWFwIHtwb3NpdGlvbjphYnNvbHV0ZTt0b3A6MDtib3R0b206MDtyaWdodDowO2xlZnQ6MDt9PC9zdHlsZT4KICAgIAogICAgICAgICAgICA8c3R5bGU+ICNtYXBfYWEzY2YwNTMyMzNmNGFkOGI1Yjc1MTg3MTk1YTJhZjYgewogICAgICAgICAgICAgICAgcG9zaXRpb24gOiByZWxhdGl2ZTsKICAgICAgICAgICAgICAgIHdpZHRoIDogMTAwLjAlOwogICAgICAgICAgICAgICAgaGVpZ2h0OiAxMDAuMCU7CiAgICAgICAgICAgICAgICBsZWZ0OiAwLjAlOwogICAgICAgICAgICAgICAgdG9wOiAwLjAlOwogICAgICAgICAgICAgICAgfQogICAgICAgICAgICA8L3N0eWxlPgogICAgICAgIAo8L2hlYWQ+Cjxib2R5PiAgICAKICAgIAogICAgICAgICAgICA8ZGl2IGNsYXNzPSJmb2xpdW0tbWFwIiBpZD0ibWFwX2FhM2NmMDUzMjMzZjRhZDhiNWI3NTE4NzE5NWEyYWY2IiA+PC9kaXY+CiAgICAgICAgCjwvYm9keT4KPHNjcmlwdD4gICAgCiAgICAKCiAgICAgICAgICAgIAogICAgICAgICAgICAgICAgdmFyIGJvdW5kcyA9IG51bGw7CiAgICAgICAgICAgIAoKICAgICAgICAgICAgdmFyIG1hcF9hYTNjZjA1MzIzM2Y0YWQ4YjViNzUxODcxOTVhMmFmNiA9IEwubWFwKAogICAgICAgICAgICAgICAgICAgICAgICAgICAgICAgICAgJ21hcF9hYTNjZjA1MzIzM2Y0YWQ4YjViNzUxODcxOTVhMmFmNicsCiAgICAgICAgICAgICAgICAgICAgICAgICAgICAgICAgICB7Y2VudGVyOiBbNDMuNjUxMDcsLTc5LjM0NzAxNV0sCiAgICAgICAgICAgICAgICAgICAgICAgICAgICAgICAgICB6b29tOiAxMiwKICAgICAgICAgICAgICAgICAgICAgICAgICAgICAgICAgIG1heEJvdW5kczogYm91bmRzLAogICAgICAgICAgICAgICAgICAgICAgICAgICAgICAgICAgbGF5ZXJzOiBbXSwKICAgICAgICAgICAgICAgICAgICAgICAgICAgICAgICAgIHdvcmxkQ29weUp1bXA6IGZhbHNlLAogICAgICAgICAgICAgICAgICAgICAgICAgICAgICAgICAgY3JzOiBMLkNSUy5FUFNHMzg1NwogICAgICAgICAgICAgICAgICAgICAgICAgICAgICAgICB9KTsKICAgICAgICAgICAgCiAgICAgICAgCiAgICAKICAgICAgICAgICAgdmFyIHRpbGVfbGF5ZXJfMGVjYTIyZDA2NmRkNGEyOGJjNTcxZGRkODM5NjhmZWIgPSBMLnRpbGVMYXllcigKICAgICAgICAgICAgICAgICdodHRwczovL3tzfS50aWxlLm9wZW5zdHJlZXRtYXAub3JnL3t6fS97eH0ve3l9LnBuZycsCiAgICAgICAgICAgICAgICB7CiAgImF0dHJpYnV0aW9uIjogbnVsbCwgCiAgImRldGVjdFJldGluYSI6IGZhbHNlLCAKICAibWF4Wm9vbSI6IDE4LCAKICAibWluWm9vbSI6IDEsIAogICJub1dyYXAiOiBmYWxzZSwgCiAgInN1YmRvbWFpbnMiOiAiYWJjIgp9CiAgICAgICAgICAgICAgICApLmFkZFRvKG1hcF9hYTNjZjA1MzIzM2Y0YWQ4YjViNzUxODcxOTVhMmFmNik7CiAgICAgICAgCiAgICAKICAgICAgICAgICAgdmFyIGNpcmNsZV9tYXJrZXJfZGE2NTA5YzU3ODk4NDZjOWEyYWU2ZGU4MGZmYzliYmQgPSBMLmNpcmNsZU1hcmtlcigKICAgICAgICAgICAgICAgIFs0My42NTQyNTk5LC03OS4zNjA2MzU5XSwKICAgICAgICAgICAgICAgIHsKICAiYnViYmxpbmdNb3VzZUV2ZW50cyI6IHRydWUsIAogICJjb2xvciI6ICIjODAwMGZmIiwgCiAgImRhc2hBcnJheSI6IG51bGwsIAogICJkYXNoT2Zmc2V0IjogbnVsbCwgCiAgImZpbGwiOiB0cnVlLCAKICAiZmlsbENvbG9yIjogIiM4MDAwZmYiLCAKICAiZmlsbE9wYWNpdHkiOiAwLjcsIAogICJmaWxsUnVsZSI6ICJldmVub2RkIiwgCiAgImxpbmVDYXAiOiAicm91bmQiLCAKICAibGluZUpvaW4iOiAicm91bmQiLCAKICAib3BhY2l0eSI6IDEuMCwgCiAgInJhZGl1cyI6IDUsIAogICJzdHJva2UiOiB0cnVlLCAKICAid2VpZ2h0IjogMwp9CiAgICAgICAgICAgICAgICApLmFkZFRvKG1hcF9hYTNjZjA1MzIzM2Y0YWQ4YjViNzUxODcxOTVhMmFmNik7CiAgICAgICAgICAgIAogICAgCiAgICAgICAgICAgIHZhciBwb3B1cF9hNTA5NTlhM2JhMWU0YzQ2YjljMzAzNDY4MmEzNjM5MyA9IEwucG9wdXAoe21heFdpZHRoOiAnMzAwJ30pOwoKICAgICAgICAgICAgCiAgICAgICAgICAgICAgICB2YXIgaHRtbF9lZDBjMmJkZGQ5NTU0YjQ0ODM5MTQzNzA2NWIwYmU1YiA9ICQoJzxkaXYgaWQ9Imh0bWxfZWQwYzJiZGRkOTU1NGI0NDgzOTE0MzcwNjViMGJlNWIiIHN0eWxlPSJ3aWR0aDogMTAwLjAlOyBoZWlnaHQ6IDEwMC4wJTsiPlJlZ2VudCBQYXJrLCBIYXJib3VyZnJvbnQgQ2x1c3RlciAxPC9kaXY+JylbMF07CiAgICAgICAgICAgICAgICBwb3B1cF9hNTA5NTlhM2JhMWU0YzQ2YjljMzAzNDY4MmEzNjM5My5zZXRDb250ZW50KGh0bWxfZWQwYzJiZGRkOTU1NGI0NDgzOTE0MzcwNjViMGJlNWIpOwogICAgICAgICAgICAKCiAgICAgICAgICAgIGNpcmNsZV9tYXJrZXJfZGE2NTA5YzU3ODk4NDZjOWEyYWU2ZGU4MGZmYzliYmQuYmluZFBvcHVwKHBvcHVwX2E1MDk1OWEzYmExZTRjNDZiOWMzMDM0NjgyYTM2MzkzKTsKCiAgICAgICAgICAgIAogICAgICAgIAogICAgCiAgICAgICAgICAgIHZhciBjaXJjbGVfbWFya2VyX2NhYjQ5MGUzYTliZTRlOTdiYTJmODMyNmQxNjI0M2EzID0gTC5jaXJjbGVNYXJrZXIoCiAgICAgICAgICAgICAgICBbNDMuNjYyMzAxNSwtNzkuMzg5NDkzOF0sCiAgICAgICAgICAgICAgICB7CiAgImJ1YmJsaW5nTW91c2VFdmVudHMiOiB0cnVlLCAKICAiY29sb3IiOiAiIzgwMDBmZiIsIAogICJkYXNoQXJyYXkiOiBudWxsLCAKICAiZGFzaE9mZnNldCI6IG51bGwsIAogICJmaWxsIjogdHJ1ZSwgCiAgImZpbGxDb2xvciI6ICIjODAwMGZmIiwgCiAgImZpbGxPcGFjaXR5IjogMC43LCAKICAiZmlsbFJ1bGUiOiAiZXZlbm9kZCIsIAogICJsaW5lQ2FwIjogInJvdW5kIiwgCiAgImxpbmVKb2luIjogInJvdW5kIiwgCiAgIm9wYWNpdHkiOiAxLjAsIAogICJyYWRpdXMiOiA1LCAKICAic3Ryb2tlIjogdHJ1ZSwgCiAgIndlaWdodCI6IDMKfQogICAgICAgICAgICAgICAgKS5hZGRUbyhtYXBfYWEzY2YwNTMyMzNmNGFkOGI1Yjc1MTg3MTk1YTJhZjYpOwogICAgICAgICAgICAKICAgIAogICAgICAgICAgICB2YXIgcG9wdXBfNzdhMzAyNzdjZmM4NDRiMzgzZTBmOTU4MGUzZDAwYTIgPSBMLnBvcHVwKHttYXhXaWR0aDogJzMwMCd9KTsKCiAgICAgICAgICAgIAogICAgICAgICAgICAgICAgdmFyIGh0bWxfOTI2MzI5ZGYxODJiNDYxN2I3YWMxODU4ZmRmNThhZTggPSAkKCc8ZGl2IGlkPSJodG1sXzkyNjMyOWRmMTgyYjQ2MTdiN2FjMTg1OGZkZjU4YWU4IiBzdHlsZT0id2lkdGg6IDEwMC4wJTsgaGVpZ2h0OiAxMDAuMCU7Ij5RdWVlbiYjMzk7cyBQYXJrLCBPbnRhcmlvIFByb3ZpbmNpYWwgR292ZXJubWVudCBDbHVzdGVyIDE8L2Rpdj4nKVswXTsKICAgICAgICAgICAgICAgIHBvcHVwXzc3YTMwMjc3Y2ZjODQ0YjM4M2UwZjk1ODBlM2QwMGEyLnNldENvbnRlbnQoaHRtbF85MjYzMjlkZjE4MmI0NjE3YjdhYzE4NThmZGY1OGFlOCk7CiAgICAgICAgICAgIAoKICAgICAgICAgICAgY2lyY2xlX21hcmtlcl9jYWI0OTBlM2E5YmU0ZTk3YmEyZjgzMjZkMTYyNDNhMy5iaW5kUG9wdXAocG9wdXBfNzdhMzAyNzdjZmM4NDRiMzgzZTBmOTU4MGUzZDAwYTIpOwoKICAgICAgICAgICAgCiAgICAgICAgCiAgICAKICAgICAgICAgICAgdmFyIGNpcmNsZV9tYXJrZXJfODRhZTU3MGI3NWJiNGVhMWFiZjZmOTBjZjEyOTA0ZTkgPSBMLmNpcmNsZU1hcmtlcigKICAgICAgICAgICAgICAgIFs0My42NTcxNjE4LC03OS4zNzg5MzcxXSwKICAgICAgICAgICAgICAgIHsKICAiYnViYmxpbmdNb3VzZUV2ZW50cyI6IHRydWUsIAogICJjb2xvciI6ICIjODAwMGZmIiwgCiAgImRhc2hBcnJheSI6IG51bGwsIAogICJkYXNoT2Zmc2V0IjogbnVsbCwgCiAgImZpbGwiOiB0cnVlLCAKICAiZmlsbENvbG9yIjogIiM4MDAwZmYiLCAKICAiZmlsbE9wYWNpdHkiOiAwLjcsIAogICJmaWxsUnVsZSI6ICJldmVub2RkIiwgCiAgImxpbmVDYXAiOiAicm91bmQiLCAKICAibGluZUpvaW4iOiAicm91bmQiLCAKICAib3BhY2l0eSI6IDEuMCwgCiAgInJhZGl1cyI6IDUsIAogICJzdHJva2UiOiB0cnVlLCAKICAid2VpZ2h0IjogMwp9CiAgICAgICAgICAgICAgICApLmFkZFRvKG1hcF9hYTNjZjA1MzIzM2Y0YWQ4YjViNzUxODcxOTVhMmFmNik7CiAgICAgICAgICAgIAogICAgCiAgICAgICAgICAgIHZhciBwb3B1cF9hYmEyM2RhNzVkZWE0ZTM0OGQzNGU0MjA4NWNjMDZmNCA9IEwucG9wdXAoe21heFdpZHRoOiAnMzAwJ30pOwoKICAgICAgICAgICAgCiAgICAgICAgICAgICAgICB2YXIgaHRtbF9mNGFlMjNiNmVlM2Y0ZTE1YWQ5ZDA5MzQzM2E2MDQ5YSA9ICQoJzxkaXYgaWQ9Imh0bWxfZjRhZTIzYjZlZTNmNGUxNWFkOWQwOTM0MzNhNjA0OWEiIHN0eWxlPSJ3aWR0aDogMTAwLjAlOyBoZWlnaHQ6IDEwMC4wJTsiPkdhcmRlbiBEaXN0cmljdCwgUnllcnNvbiBDbHVzdGVyIDE8L2Rpdj4nKVswXTsKICAgICAgICAgICAgICAgIHBvcHVwX2FiYTIzZGE3NWRlYTRlMzQ4ZDM0ZTQyMDg1Y2MwNmY0LnNldENvbnRlbnQoaHRtbF9mNGFlMjNiNmVlM2Y0ZTE1YWQ5ZDA5MzQzM2E2MDQ5YSk7CiAgICAgICAgICAgIAoKICAgICAgICAgICAgY2lyY2xlX21hcmtlcl84NGFlNTcwYjc1YmI0ZWExYWJmNmY5MGNmMTI5MDRlOS5iaW5kUG9wdXAocG9wdXBfYWJhMjNkYTc1ZGVhNGUzNDhkMzRlNDIwODVjYzA2ZjQpOwoKICAgICAgICAgICAgCiAgICAgICAgCiAgICAKICAgICAgICAgICAgdmFyIGNpcmNsZV9tYXJrZXJfZjlkNDY1ZDRjZDU3NDExZTg3MDMwODAzY2VlNjQ2OGUgPSBMLmNpcmNsZU1hcmtlcigKICAgICAgICAgICAgICAgIFs0My42NTE0OTM5LC03OS4zNzU0MTc5XSwKICAgICAgICAgICAgICAgIHsKICAiYnViYmxpbmdNb3VzZUV2ZW50cyI6IHRydWUsIAogICJjb2xvciI6ICIjODAwMGZmIiwgCiAgImRhc2hBcnJheSI6IG51bGwsIAogICJkYXNoT2Zmc2V0IjogbnVsbCwgCiAgImZpbGwiOiB0cnVlLCAKICAiZmlsbENvbG9yIjogIiM4MDAwZmYiLCAKICAiZmlsbE9wYWNpdHkiOiAwLjcsIAogICJmaWxsUnVsZSI6ICJldmVub2RkIiwgCiAgImxpbmVDYXAiOiAicm91bmQiLCAKICAibGluZUpvaW4iOiAicm91bmQiLCAKICAib3BhY2l0eSI6IDEuMCwgCiAgInJhZGl1cyI6IDUsIAogICJzdHJva2UiOiB0cnVlLCAKICAid2VpZ2h0IjogMwp9CiAgICAgICAgICAgICAgICApLmFkZFRvKG1hcF9hYTNjZjA1MzIzM2Y0YWQ4YjViNzUxODcxOTVhMmFmNik7CiAgICAgICAgICAgIAogICAgCiAgICAgICAgICAgIHZhciBwb3B1cF9mZjYzOGQxNzc3NTU0OGZiYTcwYmM2ODE0ZGI1OGI2MSA9IEwucG9wdXAoe21heFdpZHRoOiAnMzAwJ30pOwoKICAgICAgICAgICAgCiAgICAgICAgICAgICAgICB2YXIgaHRtbF9iZWMwOWFkODdmZTQ0ZTIwODc3MjRkZGEwMTFmMmQzYyA9ICQoJzxkaXYgaWQ9Imh0bWxfYmVjMDlhZDg3ZmU0NGUyMDg3NzI0ZGRhMDExZjJkM2MiIHN0eWxlPSJ3aWR0aDogMTAwLjAlOyBoZWlnaHQ6IDEwMC4wJTsiPlN0LiBKYW1lcyBUb3duIENsdXN0ZXIgMTwvZGl2PicpWzBdOwogICAgICAgICAgICAgICAgcG9wdXBfZmY2MzhkMTc3NzU1NDhmYmE3MGJjNjgxNGRiNThiNjEuc2V0Q29udGVudChodG1sX2JlYzA5YWQ4N2ZlNDRlMjA4NzcyNGRkYTAxMWYyZDNjKTsKICAgICAgICAgICAgCgogICAgICAgICAgICBjaXJjbGVfbWFya2VyX2Y5ZDQ2NWQ0Y2Q1NzQxMWU4NzAzMDgwM2NlZTY0NjhlLmJpbmRQb3B1cChwb3B1cF9mZjYzOGQxNzc3NTU0OGZiYTcwYmM2ODE0ZGI1OGI2MSk7CgogICAgICAgICAgICAKICAgICAgICAKICAgIAogICAgICAgICAgICB2YXIgY2lyY2xlX21hcmtlcl80MDIyYzg4ZDYxYWU0N2ExYmJhM2ZhYjgyNWYzZTkwMSA9IEwuY2lyY2xlTWFya2VyKAogICAgICAgICAgICAgICAgWzQzLjY3NjM1NzQsLTc5LjI5MzAzMTJdLAogICAgICAgICAgICAgICAgewogICJidWJibGluZ01vdXNlRXZlbnRzIjogdHJ1ZSwgCiAgImNvbG9yIjogIiNkNGRkODAiLCAKICAiZGFzaEFycmF5IjogbnVsbCwgCiAgImRhc2hPZmZzZXQiOiBudWxsLCAKICAiZmlsbCI6IHRydWUsIAogICJmaWxsQ29sb3IiOiAiI2Q0ZGQ4MCIsIAogICJmaWxsT3BhY2l0eSI6IDAuNywgCiAgImZpbGxSdWxlIjogImV2ZW5vZGQiLCAKICAibGluZUNhcCI6ICJyb3VuZCIsIAogICJsaW5lSm9pbiI6ICJyb3VuZCIsIAogICJvcGFjaXR5IjogMS4wLCAKICAicmFkaXVzIjogNSwgCiAgInN0cm9rZSI6IHRydWUsIAogICJ3ZWlnaHQiOiAzCn0KICAgICAgICAgICAgICAgICkuYWRkVG8obWFwX2FhM2NmMDUzMjMzZjRhZDhiNWI3NTE4NzE5NWEyYWY2KTsKICAgICAgICAgICAgCiAgICAKICAgICAgICAgICAgdmFyIHBvcHVwXzc1ZGJhYjk1ZTBmNjRlZWJhMGNjMGExZTFmNDkyYmYyID0gTC5wb3B1cCh7bWF4V2lkdGg6ICczMDAnfSk7CgogICAgICAgICAgICAKICAgICAgICAgICAgICAgIHZhciBodG1sX2QzYWMxNTgyYjlmNzRkOTk4MjcyMzYxZGJmNTE2M2Q5ID0gJCgnPGRpdiBpZD0iaHRtbF9kM2FjMTU4MmI5Zjc0ZDk5ODI3MjM2MWRiZjUxNjNkOSIgc3R5bGU9IndpZHRoOiAxMDAuMCU7IGhlaWdodDogMTAwLjAlOyI+VGhlIEJlYWNoZXMgQ2x1c3RlciAzPC9kaXY+JylbMF07CiAgICAgICAgICAgICAgICBwb3B1cF83NWRiYWI5NWUwZjY0ZWViYTBjYzBhMWUxZjQ5MmJmMi5zZXRDb250ZW50KGh0bWxfZDNhYzE1ODJiOWY3NGQ5OTgyNzIzNjFkYmY1MTYzZDkpOwogICAgICAgICAgICAKCiAgICAgICAgICAgIGNpcmNsZV9tYXJrZXJfNDAyMmM4OGQ2MWFlNDdhMWJiYTNmYWI4MjVmM2U5MDEuYmluZFBvcHVwKHBvcHVwXzc1ZGJhYjk1ZTBmNjRlZWJhMGNjMGExZTFmNDkyYmYyKTsKCiAgICAgICAgICAgIAogICAgICAgIAogICAgCiAgICAgICAgICAgIHZhciBjaXJjbGVfbWFya2VyXzYxZDc3MmZhN2FlMzQxN2U4NWZjZWYwMWVmNmIwMTdmID0gTC5jaXJjbGVNYXJrZXIoCiAgICAgICAgICAgICAgICBbNDMuNjQ0NzcwOCwtNzkuMzczMzA2NF0sCiAgICAgICAgICAgICAgICB7CiAgImJ1YmJsaW5nTW91c2VFdmVudHMiOiB0cnVlLCAKICAiY29sb3IiOiAiIzgwMDBmZiIsIAogICJkYXNoQXJyYXkiOiBudWxsLCAKICAiZGFzaE9mZnNldCI6IG51bGwsIAogICJmaWxsIjogdHJ1ZSwgCiAgImZpbGxDb2xvciI6ICIjODAwMGZmIiwgCiAgImZpbGxPcGFjaXR5IjogMC43LCAKICAiZmlsbFJ1bGUiOiAiZXZlbm9kZCIsIAogICJsaW5lQ2FwIjogInJvdW5kIiwgCiAgImxpbmVKb2luIjogInJvdW5kIiwgCiAgIm9wYWNpdHkiOiAxLjAsIAogICJyYWRpdXMiOiA1LCAKICAic3Ryb2tlIjogdHJ1ZSwgCiAgIndlaWdodCI6IDMKfQogICAgICAgICAgICAgICAgKS5hZGRUbyhtYXBfYWEzY2YwNTMyMzNmNGFkOGI1Yjc1MTg3MTk1YTJhZjYpOwogICAgICAgICAgICAKICAgIAogICAgICAgICAgICB2YXIgcG9wdXBfY2QzNzgzZDgyY2RkNDA0N2FjZmJhNDk5NDlmNzhhMzcgPSBMLnBvcHVwKHttYXhXaWR0aDogJzMwMCd9KTsKCiAgICAgICAgICAgIAogICAgICAgICAgICAgICAgdmFyIGh0bWxfNjFkZDUwMTUxYTNlNGM0YjkxYjZhMWU0YzI0ZTY0YjAgPSAkKCc8ZGl2IGlkPSJodG1sXzYxZGQ1MDE1MWEzZTRjNGI5MWI2YTFlNGMyNGU2NGIwIiBzdHlsZT0id2lkdGg6IDEwMC4wJTsgaGVpZ2h0OiAxMDAuMCU7Ij5CZXJjenkgUGFyayBDbHVzdGVyIDE8L2Rpdj4nKVswXTsKICAgICAgICAgICAgICAgIHBvcHVwX2NkMzc4M2Q4MmNkZDQwNDdhY2ZiYTQ5OTQ5Zjc4YTM3LnNldENvbnRlbnQoaHRtbF82MWRkNTAxNTFhM2U0YzRiOTFiNmExZTRjMjRlNjRiMCk7CiAgICAgICAgICAgIAoKICAgICAgICAgICAgY2lyY2xlX21hcmtlcl82MWQ3NzJmYTdhZTM0MTdlODVmY2VmMDFlZjZiMDE3Zi5iaW5kUG9wdXAocG9wdXBfY2QzNzgzZDgyY2RkNDA0N2FjZmJhNDk5NDlmNzhhMzcpOwoKICAgICAgICAgICAgCiAgICAgICAgCiAgICAKICAgICAgICAgICAgdmFyIGNpcmNsZV9tYXJrZXJfMzExMjA0NzY5MjU5NDkwYmIwNDU4YjIwMjg3ZWY4M2QgPSBMLmNpcmNsZU1hcmtlcigKICAgICAgICAgICAgICAgIFs0My42NTc5NTI0LC03OS4zODczODI2XSwKICAgICAgICAgICAgICAgIHsKICAiYnViYmxpbmdNb3VzZUV2ZW50cyI6IHRydWUsIAogICJjb2xvciI6ICIjODAwMGZmIiwgCiAgImRhc2hBcnJheSI6IG51bGwsIAogICJkYXNoT2Zmc2V0IjogbnVsbCwgCiAgImZpbGwiOiB0cnVlLCAKICAiZmlsbENvbG9yIjogIiM4MDAwZmYiLCAKICAiZmlsbE9wYWNpdHkiOiAwLjcsIAogICJmaWxsUnVsZSI6ICJldmVub2RkIiwgCiAgImxpbmVDYXAiOiAicm91bmQiLCAKICAibGluZUpvaW4iOiAicm91bmQiLCAKICAib3BhY2l0eSI6IDEuMCwgCiAgInJhZGl1cyI6IDUsIAogICJzdHJva2UiOiB0cnVlLCAKICAid2VpZ2h0IjogMwp9CiAgICAgICAgICAgICAgICApLmFkZFRvKG1hcF9hYTNjZjA1MzIzM2Y0YWQ4YjViNzUxODcxOTVhMmFmNik7CiAgICAgICAgICAgIAogICAgCiAgICAgICAgICAgIHZhciBwb3B1cF9jZWFmZjRmZGZjNmQ0YzE0OWEwYmUzNWYzZDRmYzM5NCA9IEwucG9wdXAoe21heFdpZHRoOiAnMzAwJ30pOwoKICAgICAgICAgICAgCiAgICAgICAgICAgICAgICB2YXIgaHRtbF9iMjc1YWQ2N2M4OGY0ZjJmYTYwNzMyOTc4NjRhZTgzYyA9ICQoJzxkaXYgaWQ9Imh0bWxfYjI3NWFkNjdjODhmNGYyZmE2MDczMjk3ODY0YWU4M2MiIHN0eWxlPSJ3aWR0aDogMTAwLjAlOyBoZWlnaHQ6IDEwMC4wJTsiPkNlbnRyYWwgQmF5IFN0cmVldCBDbHVzdGVyIDE8L2Rpdj4nKVswXTsKICAgICAgICAgICAgICAgIHBvcHVwX2NlYWZmNGZkZmM2ZDRjMTQ5YTBiZTM1ZjNkNGZjMzk0LnNldENvbnRlbnQoaHRtbF9iMjc1YWQ2N2M4OGY0ZjJmYTYwNzMyOTc4NjRhZTgzYyk7CiAgICAgICAgICAgIAoKICAgICAgICAgICAgY2lyY2xlX21hcmtlcl8zMTEyMDQ3NjkyNTk0OTBiYjA0NThiMjAyODdlZjgzZC5iaW5kUG9wdXAocG9wdXBfY2VhZmY0ZmRmYzZkNGMxNDlhMGJlMzVmM2Q0ZmMzOTQpOwoKICAgICAgICAgICAgCiAgICAgICAgCiAgICAKICAgICAgICAgICAgdmFyIGNpcmNsZV9tYXJrZXJfZTQ2ZjczZWRhMGEwNGM5MDk3ZjFlN2RmYjdkNmU4MGMgPSBMLmNpcmNsZU1hcmtlcigKICAgICAgICAgICAgICAgIFs0My42Njk1NDIsLTc5LjQyMjU2MzddLAogICAgICAgICAgICAgICAgewogICJidWJibGluZ01vdXNlRXZlbnRzIjogdHJ1ZSwgCiAgImNvbG9yIjogIiMyYWRkZGQiLCAKICAiZGFzaEFycmF5IjogbnVsbCwgCiAgImRhc2hPZmZzZXQiOiBudWxsLCAKICAiZmlsbCI6IHRydWUsIAogICJmaWxsQ29sb3IiOiAiIzJhZGRkZCIsIAogICJmaWxsT3BhY2l0eSI6IDAuNywgCiAgImZpbGxSdWxlIjogImV2ZW5vZGQiLCAKICAibGluZUNhcCI6ICJyb3VuZCIsIAogICJsaW5lSm9pbiI6ICJyb3VuZCIsIAogICJvcGFjaXR5IjogMS4wLCAKICAicmFkaXVzIjogNSwgCiAgInN0cm9rZSI6IHRydWUsIAogICJ3ZWlnaHQiOiAzCn0KICAgICAgICAgICAgICAgICkuYWRkVG8obWFwX2FhM2NmMDUzMjMzZjRhZDhiNWI3NTE4NzE5NWEyYWY2KTsKICAgICAgICAgICAgCiAgICAKICAgICAgICAgICAgdmFyIHBvcHVwX2U4NGU3NzljYjM3NTRiODFiMjJkODhjNDI4YWQyYWJmID0gTC5wb3B1cCh7bWF4V2lkdGg6ICczMDAnfSk7CgogICAgICAgICAgICAKICAgICAgICAgICAgICAgIHZhciBodG1sXzM4ZDhhZDg4ZTdmZTQ2YTc4YWNjMDc2MDNmMzYyZWQwID0gJCgnPGRpdiBpZD0iaHRtbF8zOGQ4YWQ4OGU3ZmU0NmE3OGFjYzA3NjAzZjM2MmVkMCIgc3R5bGU9IndpZHRoOiAxMDAuMCU7IGhlaWdodDogMTAwLjAlOyI+Q2hyaXN0aWUgQ2x1c3RlciAyPC9kaXY+JylbMF07CiAgICAgICAgICAgICAgICBwb3B1cF9lODRlNzc5Y2IzNzU0YjgxYjIyZDg4YzQyOGFkMmFiZi5zZXRDb250ZW50KGh0bWxfMzhkOGFkODhlN2ZlNDZhNzhhY2MwNzYwM2YzNjJlZDApOwogICAgICAgICAgICAKCiAgICAgICAgICAgIGNpcmNsZV9tYXJrZXJfZTQ2ZjczZWRhMGEwNGM5MDk3ZjFlN2RmYjdkNmU4MGMuYmluZFBvcHVwKHBvcHVwX2U4NGU3NzljYjM3NTRiODFiMjJkODhjNDI4YWQyYWJmKTsKCiAgICAgICAgICAgIAogICAgICAgIAogICAgCiAgICAgICAgICAgIHZhciBjaXJjbGVfbWFya2VyXzZmMThmYjc3MzllNDRkZjhiYTFhOGEwNDBiN2FhZDUwID0gTC5jaXJjbGVNYXJrZXIoCiAgICAgICAgICAgICAgICBbNDMuNjUwNTcxMiwtNzkuMzg0NTY3NV0sCiAgICAgICAgICAgICAgICB7CiAgImJ1YmJsaW5nTW91c2VFdmVudHMiOiB0cnVlLCAKICAiY29sb3IiOiAiIzgwMDBmZiIsIAogICJkYXNoQXJyYXkiOiBudWxsLCAKICAiZGFzaE9mZnNldCI6IG51bGwsIAogICJmaWxsIjogdHJ1ZSwgCiAgImZpbGxDb2xvciI6ICIjODAwMGZmIiwgCiAgImZpbGxPcGFjaXR5IjogMC43LCAKICAiZmlsbFJ1bGUiOiAiZXZlbm9kZCIsIAogICJsaW5lQ2FwIjogInJvdW5kIiwgCiAgImxpbmVKb2luIjogInJvdW5kIiwgCiAgIm9wYWNpdHkiOiAxLjAsIAogICJyYWRpdXMiOiA1LCAKICAic3Ryb2tlIjogdHJ1ZSwgCiAgIndlaWdodCI6IDMKfQogICAgICAgICAgICAgICAgKS5hZGRUbyhtYXBfYWEzY2YwNTMyMzNmNGFkOGI1Yjc1MTg3MTk1YTJhZjYpOwogICAgICAgICAgICAKICAgIAogICAgICAgICAgICB2YXIgcG9wdXBfYjU5MDY2YzM3YjA2NDZhZjkzMWNmYzZkZTkwYWJkZmMgPSBMLnBvcHVwKHttYXhXaWR0aDogJzMwMCd9KTsKCiAgICAgICAgICAgIAogICAgICAgICAgICAgICAgdmFyIGh0bWxfMzEwZGU4YTVjMzkxNDNhN2EyNTIyMDc4Y2VlMTJkOGUgPSAkKCc8ZGl2IGlkPSJodG1sXzMxMGRlOGE1YzM5MTQzYTdhMjUyMjA3OGNlZTEyZDhlIiBzdHlsZT0id2lkdGg6IDEwMC4wJTsgaGVpZ2h0OiAxMDAuMCU7Ij5SaWNobW9uZCwgQWRlbGFpZGUsIEtpbmcgQ2x1c3RlciAxPC9kaXY+JylbMF07CiAgICAgICAgICAgICAgICBwb3B1cF9iNTkwNjZjMzdiMDY0NmFmOTMxY2ZjNmRlOTBhYmRmYy5zZXRDb250ZW50KGh0bWxfMzEwZGU4YTVjMzkxNDNhN2EyNTIyMDc4Y2VlMTJkOGUpOwogICAgICAgICAgICAKCiAgICAgICAgICAgIGNpcmNsZV9tYXJrZXJfNmYxOGZiNzczOWU0NGRmOGJhMWE4YTA0MGI3YWFkNTAuYmluZFBvcHVwKHBvcHVwX2I1OTA2NmMzN2IwNjQ2YWY5MzFjZmM2ZGU5MGFiZGZjKTsKCiAgICAgICAgICAgIAogICAgICAgIAogICAgCiAgICAgICAgICAgIHZhciBjaXJjbGVfbWFya2VyXzRlMDhhOWZkN2U0MDRjMTI4NjgyYmZlNzQyNDE5ZDhiID0gTC5jaXJjbGVNYXJrZXIoCiAgICAgICAgICAgICAgICBbNDMuNjY5MDA1MSwtNzkuNDQyMjU5M10sCiAgICAgICAgICAgICAgICB7CiAgImJ1YmJsaW5nTW91c2VFdmVudHMiOiB0cnVlLCAKICAiY29sb3IiOiAiIzJhZGRkZCIsIAogICJkYXNoQXJyYXkiOiBudWxsLCAKICAiZGFzaE9mZnNldCI6IG51bGwsIAogICJmaWxsIjogdHJ1ZSwgCiAgImZpbGxDb2xvciI6ICIjMmFkZGRkIiwgCiAgImZpbGxPcGFjaXR5IjogMC43LCAKICAiZmlsbFJ1bGUiOiAiZXZlbm9kZCIsIAogICJsaW5lQ2FwIjogInJvdW5kIiwgCiAgImxpbmVKb2luIjogInJvdW5kIiwgCiAgIm9wYWNpdHkiOiAxLjAsIAogICJyYWRpdXMiOiA1LCAKICAic3Ryb2tlIjogdHJ1ZSwgCiAgIndlaWdodCI6IDMKfQogICAgICAgICAgICAgICAgKS5hZGRUbyhtYXBfYWEzY2YwNTMyMzNmNGFkOGI1Yjc1MTg3MTk1YTJhZjYpOwogICAgICAgICAgICAKICAgIAogICAgICAgICAgICB2YXIgcG9wdXBfOTQ4MmVmZWQzYzNlNDAyN2JmNTA4ZmY0N2Y2MmFlMjMgPSBMLnBvcHVwKHttYXhXaWR0aDogJzMwMCd9KTsKCiAgICAgICAgICAgIAogICAgICAgICAgICAgICAgdmFyIGh0bWxfYTQ1OGVjZWJkMDkwNDEyNzhmYTIxNjQ1OWExMzA2MjQgPSAkKCc8ZGl2IGlkPSJodG1sX2E0NThlY2ViZDA5MDQxMjc4ZmEyMTY0NTlhMTMwNjI0IiBzdHlsZT0id2lkdGg6IDEwMC4wJTsgaGVpZ2h0OiAxMDAuMCU7Ij5EdWZmZXJpbiwgRG92ZXJjb3VydCBWaWxsYWdlIENsdXN0ZXIgMjwvZGl2PicpWzBdOwogICAgICAgICAgICAgICAgcG9wdXBfOTQ4MmVmZWQzYzNlNDAyN2JmNTA4ZmY0N2Y2MmFlMjMuc2V0Q29udGVudChodG1sX2E0NThlY2ViZDA5MDQxMjc4ZmEyMTY0NTlhMTMwNjI0KTsKICAgICAgICAgICAgCgogICAgICAgICAgICBjaXJjbGVfbWFya2VyXzRlMDhhOWZkN2U0MDRjMTI4NjgyYmZlNzQyNDE5ZDhiLmJpbmRQb3B1cChwb3B1cF85NDgyZWZlZDNjM2U0MDI3YmY1MDhmZjQ3ZjYyYWUyMyk7CgogICAgICAgICAgICAKICAgICAgICAKICAgIAogICAgICAgICAgICB2YXIgY2lyY2xlX21hcmtlcl82ZjYyYzFjNWVhNGM0NWI2YmVjMjU5MmYyMmMyMGQzNiA9IEwuY2lyY2xlTWFya2VyKAogICAgICAgICAgICAgICAgWzQzLjY0MDgxNTcsLTc5LjM4MTc1MjNdLAogICAgICAgICAgICAgICAgewogICJidWJibGluZ01vdXNlRXZlbnRzIjogdHJ1ZSwgCiAgImNvbG9yIjogIiM4MDAwZmYiLCAKICAiZGFzaEFycmF5IjogbnVsbCwgCiAgImRhc2hPZmZzZXQiOiBudWxsLCAKICAiZmlsbCI6IHRydWUsIAogICJmaWxsQ29sb3IiOiAiIzgwMDBmZiIsIAogICJmaWxsT3BhY2l0eSI6IDAuNywgCiAgImZpbGxSdWxlIjogImV2ZW5vZGQiLCAKICAibGluZUNhcCI6ICJyb3VuZCIsIAogICJsaW5lSm9pbiI6ICJyb3VuZCIsIAogICJvcGFjaXR5IjogMS4wLCAKICAicmFkaXVzIjogNSwgCiAgInN0cm9rZSI6IHRydWUsIAogICJ3ZWlnaHQiOiAzCn0KICAgICAgICAgICAgICAgICkuYWRkVG8obWFwX2FhM2NmMDUzMjMzZjRhZDhiNWI3NTE4NzE5NWEyYWY2KTsKICAgICAgICAgICAgCiAgICAKICAgICAgICAgICAgdmFyIHBvcHVwX2RhZWNmMzczODAxNzRmZmJhOWVhYTQ3ZWJiODU2NjY0ID0gTC5wb3B1cCh7bWF4V2lkdGg6ICczMDAnfSk7CgogICAgICAgICAgICAKICAgICAgICAgICAgICAgIHZhciBodG1sXzM5M2ZmMDdkNDg4NzRiMGI5ZGJlYzlmNTAwZGFlZmY1ID0gJCgnPGRpdiBpZD0iaHRtbF8zOTNmZjA3ZDQ4ODc0YjBiOWRiZWM5ZjUwMGRhZWZmNSIgc3R5bGU9IndpZHRoOiAxMDAuMCU7IGhlaWdodDogMTAwLjAlOyI+SGFyYm91cmZyb250IEVhc3QsIFVuaW9uIFN0YXRpb24sIFRvcm9udG8gSXNsYW5kcyBDbHVzdGVyIDE8L2Rpdj4nKVswXTsKICAgICAgICAgICAgICAgIHBvcHVwX2RhZWNmMzczODAxNzRmZmJhOWVhYTQ3ZWJiODU2NjY0LnNldENvbnRlbnQoaHRtbF8zOTNmZjA3ZDQ4ODc0YjBiOWRiZWM5ZjUwMGRhZWZmNSk7CiAgICAgICAgICAgIAoKICAgICAgICAgICAgY2lyY2xlX21hcmtlcl82ZjYyYzFjNWVhNGM0NWI2YmVjMjU5MmYyMmMyMGQzNi5iaW5kUG9wdXAocG9wdXBfZGFlY2YzNzM4MDE3NGZmYmE5ZWFhNDdlYmI4NTY2NjQpOwoKICAgICAgICAgICAgCiAgICAgICAgCiAgICAKICAgICAgICAgICAgdmFyIGNpcmNsZV9tYXJrZXJfNDdmZWI1NzYxNjU1NDc5ZDhhM2VlMjdlMjZlMDcwNDYgPSBMLmNpcmNsZU1hcmtlcigKICAgICAgICAgICAgICAgIFs0My42NDc5MjY3LC03OS40MTk3NDk3XSwKICAgICAgICAgICAgICAgIHsKICAiYnViYmxpbmdNb3VzZUV2ZW50cyI6IHRydWUsIAogICJjb2xvciI6ICIjMmFkZGRkIiwgCiAgImRhc2hBcnJheSI6IG51bGwsIAogICJkYXNoT2Zmc2V0IjogbnVsbCwgCiAgImZpbGwiOiB0cnVlLCAKICAiZmlsbENvbG9yIjogIiMyYWRkZGQiLCAKICAiZmlsbE9wYWNpdHkiOiAwLjcsIAogICJmaWxsUnVsZSI6ICJldmVub2RkIiwgCiAgImxpbmVDYXAiOiAicm91bmQiLCAKICAibGluZUpvaW4iOiAicm91bmQiLCAKICAib3BhY2l0eSI6IDEuMCwgCiAgInJhZGl1cyI6IDUsIAogICJzdHJva2UiOiB0cnVlLCAKICAid2VpZ2h0IjogMwp9CiAgICAgICAgICAgICAgICApLmFkZFRvKG1hcF9hYTNjZjA1MzIzM2Y0YWQ4YjViNzUxODcxOTVhMmFmNik7CiAgICAgICAgICAgIAogICAgCiAgICAgICAgICAgIHZhciBwb3B1cF83Zjc1NGQyNzMyNDk0Y2QyOTQ4YjVjNTA3ODVkODIyZSA9IEwucG9wdXAoe21heFdpZHRoOiAnMzAwJ30pOwoKICAgICAgICAgICAgCiAgICAgICAgICAgICAgICB2YXIgaHRtbF80NjUyZTkxNWViNWU0MjY5OTg4NzgxNTY3ODBjYjM3OSA9ICQoJzxkaXYgaWQ9Imh0bWxfNDY1MmU5MTVlYjVlNDI2OTk4ODc4MTU2NzgwY2IzNzkiIHN0eWxlPSJ3aWR0aDogMTAwLjAlOyBoZWlnaHQ6IDEwMC4wJTsiPkxpdHRsZSBQb3J0dWdhbCwgVHJpbml0eSBDbHVzdGVyIDI8L2Rpdj4nKVswXTsKICAgICAgICAgICAgICAgIHBvcHVwXzdmNzU0ZDI3MzI0OTRjZDI5NDhiNWM1MDc4NWQ4MjJlLnNldENvbnRlbnQoaHRtbF80NjUyZTkxNWViNWU0MjY5OTg4NzgxNTY3ODBjYjM3OSk7CiAgICAgICAgICAgIAoKICAgICAgICAgICAgY2lyY2xlX21hcmtlcl80N2ZlYjU3NjE2NTU0NzlkOGEzZWUyN2UyNmUwNzA0Ni5iaW5kUG9wdXAocG9wdXBfN2Y3NTRkMjczMjQ5NGNkMjk0OGI1YzUwNzg1ZDgyMmUpOwoKICAgICAgICAgICAgCiAgICAgICAgCiAgICAKICAgICAgICAgICAgdmFyIGNpcmNsZV9tYXJrZXJfOTVlM2NiNGU4NmIzNDI2ZTkyYjgxNmQxY2NmOWU0MmUgPSBMLmNpcmNsZU1hcmtlcigKICAgICAgICAgICAgICAgIFs0My42Nzk1NTcxLC03OS4zNTIxODhdLAogICAgICAgICAgICAgICAgewogICJidWJibGluZ01vdXNlRXZlbnRzIjogdHJ1ZSwgCiAgImNvbG9yIjogIiNkNGRkODAiLCAKICAiZGFzaEFycmF5IjogbnVsbCwgCiAgImRhc2hPZmZzZXQiOiBudWxsLCAKICAiZmlsbCI6IHRydWUsIAogICJmaWxsQ29sb3IiOiAiI2Q0ZGQ4MCIsIAogICJmaWxsT3BhY2l0eSI6IDAuNywgCiAgImZpbGxSdWxlIjogImV2ZW5vZGQiLCAKICAibGluZUNhcCI6ICJyb3VuZCIsIAogICJsaW5lSm9pbiI6ICJyb3VuZCIsIAogICJvcGFjaXR5IjogMS4wLCAKICAicmFkaXVzIjogNSwgCiAgInN0cm9rZSI6IHRydWUsIAogICJ3ZWlnaHQiOiAzCn0KICAgICAgICAgICAgICAgICkuYWRkVG8obWFwX2FhM2NmMDUzMjMzZjRhZDhiNWI3NTE4NzE5NWEyYWY2KTsKICAgICAgICAgICAgCiAgICAKICAgICAgICAgICAgdmFyIHBvcHVwXzMxMWU2YjI3YTEyNjRjZTI4ZjBhZDc5N2I2ZTI2OGU3ID0gTC5wb3B1cCh7bWF4V2lkdGg6ICczMDAnfSk7CgogICAgICAgICAgICAKICAgICAgICAgICAgICAgIHZhciBodG1sXzZhNTFkNWFkMmRlYzQ0ODBiODNkZTMwN2U5NDVmMWFhID0gJCgnPGRpdiBpZD0iaHRtbF82YTUxZDVhZDJkZWM0NDgwYjgzZGUzMDdlOTQ1ZjFhYSIgc3R5bGU9IndpZHRoOiAxMDAuMCU7IGhlaWdodDogMTAwLjAlOyI+VGhlIERhbmZvcnRoIFdlc3QsIFJpdmVyZGFsZSBDbHVzdGVyIDM8L2Rpdj4nKVswXTsKICAgICAgICAgICAgICAgIHBvcHVwXzMxMWU2YjI3YTEyNjRjZTI4ZjBhZDc5N2I2ZTI2OGU3LnNldENvbnRlbnQoaHRtbF82YTUxZDVhZDJkZWM0NDgwYjgzZGUzMDdlOTQ1ZjFhYSk7CiAgICAgICAgICAgIAoKICAgICAgICAgICAgY2lyY2xlX21hcmtlcl85NWUzY2I0ZTg2YjM0MjZlOTJiODE2ZDFjY2Y5ZTQyZS5iaW5kUG9wdXAocG9wdXBfMzExZTZiMjdhMTI2NGNlMjhmMGFkNzk3YjZlMjY4ZTcpOwoKICAgICAgICAgICAgCiAgICAgICAgCiAgICAKICAgICAgICAgICAgdmFyIGNpcmNsZV9tYXJrZXJfYjg2Y2FhZGI5Mjc5NGM3M2E4MjFjN2MwZDE3YmE2MDYgPSBMLmNpcmNsZU1hcmtlcigKICAgICAgICAgICAgICAgIFs0My42NDcxNzY4LC03OS4zODE1NzY0XSwKICAgICAgICAgICAgICAgIHsKICAiYnViYmxpbmdNb3VzZUV2ZW50cyI6IHRydWUsIAogICJjb2xvciI6ICIjODAwMGZmIiwgCiAgImRhc2hBcnJheSI6IG51bGwsIAogICJkYXNoT2Zmc2V0IjogbnVsbCwgCiAgImZpbGwiOiB0cnVlLCAKICAiZmlsbENvbG9yIjogIiM4MDAwZmYiLCAKICAiZmlsbE9wYWNpdHkiOiAwLjcsIAogICJmaWxsUnVsZSI6ICJldmVub2RkIiwgCiAgImxpbmVDYXAiOiAicm91bmQiLCAKICAibGluZUpvaW4iOiAicm91bmQiLCAKICAib3BhY2l0eSI6IDEuMCwgCiAgInJhZGl1cyI6IDUsIAogICJzdHJva2UiOiB0cnVlLCAKICAid2VpZ2h0IjogMwp9CiAgICAgICAgICAgICAgICApLmFkZFRvKG1hcF9hYTNjZjA1MzIzM2Y0YWQ4YjViNzUxODcxOTVhMmFmNik7CiAgICAgICAgICAgIAogICAgCiAgICAgICAgICAgIHZhciBwb3B1cF8zNWFhNmUyMjVhM2Y0YzI4OWJjZDQwMGViMWMzMjM5MiA9IEwucG9wdXAoe21heFdpZHRoOiAnMzAwJ30pOwoKICAgICAgICAgICAgCiAgICAgICAgICAgICAgICB2YXIgaHRtbF9kMmM3MmZmZDc0Yjc0MTRkODFmMDZmYmZmODQ4NDAzOSA9ICQoJzxkaXYgaWQ9Imh0bWxfZDJjNzJmZmQ3NGI3NDE0ZDgxZjA2ZmJmZjg0ODQwMzkiIHN0eWxlPSJ3aWR0aDogMTAwLjAlOyBoZWlnaHQ6IDEwMC4wJTsiPlRvcm9udG8gRG9taW5pb24gQ2VudHJlLCBEZXNpZ24gRXhjaGFuZ2UgQ2x1c3RlciAxPC9kaXY+JylbMF07CiAgICAgICAgICAgICAgICBwb3B1cF8zNWFhNmUyMjVhM2Y0YzI4OWJjZDQwMGViMWMzMjM5Mi5zZXRDb250ZW50KGh0bWxfZDJjNzJmZmQ3NGI3NDE0ZDgxZjA2ZmJmZjg0ODQwMzkpOwogICAgICAgICAgICAKCiAgICAgICAgICAgIGNpcmNsZV9tYXJrZXJfYjg2Y2FhZGI5Mjc5NGM3M2E4MjFjN2MwZDE3YmE2MDYuYmluZFBvcHVwKHBvcHVwXzM1YWE2ZTIyNWEzZjRjMjg5YmNkNDAwZWIxYzMyMzkyKTsKCiAgICAgICAgICAgIAogICAgICAgIAogICAgCiAgICAgICAgICAgIHZhciBjaXJjbGVfbWFya2VyX2I0Y2FlNWRiYmYyYjRmNjJhZDBjYWM0MjU5MDdhNWM1ID0gTC5jaXJjbGVNYXJrZXIoCiAgICAgICAgICAgICAgICBbNDMuNjM2ODQ3MiwtNzkuNDI4MTkxNF0sCiAgICAgICAgICAgICAgICB7CiAgImJ1YmJsaW5nTW91c2VFdmVudHMiOiB0cnVlLCAKICAiY29sb3IiOiAiIzJhZGRkZCIsIAogICJkYXNoQXJyYXkiOiBudWxsLCAKICAiZGFzaE9mZnNldCI6IG51bGwsIAogICJmaWxsIjogdHJ1ZSwgCiAgImZpbGxDb2xvciI6ICIjMmFkZGRkIiwgCiAgImZpbGxPcGFjaXR5IjogMC43LCAKICAiZmlsbFJ1bGUiOiAiZXZlbm9kZCIsIAogICJsaW5lQ2FwIjogInJvdW5kIiwgCiAgImxpbmVKb2luIjogInJvdW5kIiwgCiAgIm9wYWNpdHkiOiAxLjAsIAogICJyYWRpdXMiOiA1LCAKICAic3Ryb2tlIjogdHJ1ZSwgCiAgIndlaWdodCI6IDMKfQogICAgICAgICAgICAgICAgKS5hZGRUbyhtYXBfYWEzY2YwNTMyMzNmNGFkOGI1Yjc1MTg3MTk1YTJhZjYpOwogICAgICAgICAgICAKICAgIAogICAgICAgICAgICB2YXIgcG9wdXBfNTY2MjRlNTFlNGM0NDY3NjlmYjIyZmEwMTQ0NGM3YTggPSBMLnBvcHVwKHttYXhXaWR0aDogJzMwMCd9KTsKCiAgICAgICAgICAgIAogICAgICAgICAgICAgICAgdmFyIGh0bWxfZjM5YTIwY2JkZjNiNDcxMTk5ZGI0MGQ0OTE3YWI5MDYgPSAkKCc8ZGl2IGlkPSJodG1sX2YzOWEyMGNiZGYzYjQ3MTE5OWRiNDBkNDkxN2FiOTA2IiBzdHlsZT0id2lkdGg6IDEwMC4wJTsgaGVpZ2h0OiAxMDAuMCU7Ij5Ccm9ja3RvbiwgUGFya2RhbGUgVmlsbGFnZSwgRXhoaWJpdGlvbiBQbGFjZSBDbHVzdGVyIDI8L2Rpdj4nKVswXTsKICAgICAgICAgICAgICAgIHBvcHVwXzU2NjI0ZTUxZTRjNDQ2NzY5ZmIyMmZhMDE0NDRjN2E4LnNldENvbnRlbnQoaHRtbF9mMzlhMjBjYmRmM2I0NzExOTlkYjQwZDQ5MTdhYjkwNik7CiAgICAgICAgICAgIAoKICAgICAgICAgICAgY2lyY2xlX21hcmtlcl9iNGNhZTVkYmJmMmI0ZjYyYWQwY2FjNDI1OTA3YTVjNS5iaW5kUG9wdXAocG9wdXBfNTY2MjRlNTFlNGM0NDY3NjlmYjIyZmEwMTQ0NGM3YTgpOwoKICAgICAgICAgICAgCiAgICAgICAgCiAgICAKICAgICAgICAgICAgdmFyIGNpcmNsZV9tYXJrZXJfNjA3NjQyMTFhM2I3NGQ3OGJkODFmOTI4NmEzZmU1NmQgPSBMLmNpcmNsZU1hcmtlcigKICAgICAgICAgICAgICAgIFs0My42Njg5OTg1LC03OS4zMTU1NzE2XSwKICAgICAgICAgICAgICAgIHsKICAiYnViYmxpbmdNb3VzZUV2ZW50cyI6IHRydWUsIAogICJjb2xvciI6ICIjZDRkZDgwIiwgCiAgImRhc2hBcnJheSI6IG51bGwsIAogICJkYXNoT2Zmc2V0IjogbnVsbCwgCiAgImZpbGwiOiB0cnVlLCAKICAiZmlsbENvbG9yIjogIiNkNGRkODAiLCAKICAiZmlsbE9wYWNpdHkiOiAwLjcsIAogICJmaWxsUnVsZSI6ICJldmVub2RkIiwgCiAgImxpbmVDYXAiOiAicm91bmQiLCAKICAibGluZUpvaW4iOiAicm91bmQiLCAKICAib3BhY2l0eSI6IDEuMCwgCiAgInJhZGl1cyI6IDUsIAogICJzdHJva2UiOiB0cnVlLCAKICAid2VpZ2h0IjogMwp9CiAgICAgICAgICAgICAgICApLmFkZFRvKG1hcF9hYTNjZjA1MzIzM2Y0YWQ4YjViNzUxODcxOTVhMmFmNik7CiAgICAgICAgICAgIAogICAgCiAgICAgICAgICAgIHZhciBwb3B1cF83OTY2MDFlMGNhYWI0ZTUxYTIwYTI2ZWE2M2QwZDliZSA9IEwucG9wdXAoe21heFdpZHRoOiAnMzAwJ30pOwoKICAgICAgICAgICAgCiAgICAgICAgICAgICAgICB2YXIgaHRtbF9jYTljYjVhODIxZGQ0OGM4YjMzNjhhZGNlYWY3Yjg5ZiA9ICQoJzxkaXYgaWQ9Imh0bWxfY2E5Y2I1YTgyMWRkNDhjOGIzMzY4YWRjZWFmN2I4OWYiIHN0eWxlPSJ3aWR0aDogMTAwLjAlOyBoZWlnaHQ6IDEwMC4wJTsiPkluZGlhIEJhemFhciwgVGhlIEJlYWNoZXMgV2VzdCBDbHVzdGVyIDM8L2Rpdj4nKVswXTsKICAgICAgICAgICAgICAgIHBvcHVwXzc5NjYwMWUwY2FhYjRlNTFhMjBhMjZlYTYzZDBkOWJlLnNldENvbnRlbnQoaHRtbF9jYTljYjVhODIxZGQ0OGM4YjMzNjhhZGNlYWY3Yjg5Zik7CiAgICAgICAgICAgIAoKICAgICAgICAgICAgY2lyY2xlX21hcmtlcl82MDc2NDIxMWEzYjc0ZDc4YmQ4MWY5Mjg2YTNmZTU2ZC5iaW5kUG9wdXAocG9wdXBfNzk2NjAxZTBjYWFiNGU1MWEyMGEyNmVhNjNkMGQ5YmUpOwoKICAgICAgICAgICAgCiAgICAgICAgCiAgICAKICAgICAgICAgICAgdmFyIGNpcmNsZV9tYXJrZXJfOTYxZTgyYzRmNTQ3NDI0Yjg0NWNiNDRkNTg3OTI4YmIgPSBMLmNpcmNsZU1hcmtlcigKICAgICAgICAgICAgICAgIFs0My42NDgxOTg1LC03OS4zNzk4MTY5XSwKICAgICAgICAgICAgICAgIHsKICAiYnViYmxpbmdNb3VzZUV2ZW50cyI6IHRydWUsIAogICJjb2xvciI6ICIjODAwMGZmIiwgCiAgImRhc2hBcnJheSI6IG51bGwsIAogICJkYXNoT2Zmc2V0IjogbnVsbCwgCiAgImZpbGwiOiB0cnVlLCAKICAiZmlsbENvbG9yIjogIiM4MDAwZmYiLCAKICAiZmlsbE9wYWNpdHkiOiAwLjcsIAogICJmaWxsUnVsZSI6ICJldmVub2RkIiwgCiAgImxpbmVDYXAiOiAicm91bmQiLCAKICAibGluZUpvaW4iOiAicm91bmQiLCAKICAib3BhY2l0eSI6IDEuMCwgCiAgInJhZGl1cyI6IDUsIAogICJzdHJva2UiOiB0cnVlLCAKICAid2VpZ2h0IjogMwp9CiAgICAgICAgICAgICAgICApLmFkZFRvKG1hcF9hYTNjZjA1MzIzM2Y0YWQ4YjViNzUxODcxOTVhMmFmNik7CiAgICAgICAgICAgIAogICAgCiAgICAgICAgICAgIHZhciBwb3B1cF8wM2IwZGVhNmIyYzQ0OTMzOTFhMDA4ZjI3MWU4YTM4ZCA9IEwucG9wdXAoe21heFdpZHRoOiAnMzAwJ30pOwoKICAgICAgICAgICAgCiAgICAgICAgICAgICAgICB2YXIgaHRtbF9mZjg3ZmYzMDkzNTg0MWU2YTMwODk5YjZhYjNhNTcwMyA9ICQoJzxkaXYgaWQ9Imh0bWxfZmY4N2ZmMzA5MzU4NDFlNmEzMDg5OWI2YWIzYTU3MDMiIHN0eWxlPSJ3aWR0aDogMTAwLjAlOyBoZWlnaHQ6IDEwMC4wJTsiPkNvbW1lcmNlIENvdXJ0LCBWaWN0b3JpYSBIb3RlbCBDbHVzdGVyIDE8L2Rpdj4nKVswXTsKICAgICAgICAgICAgICAgIHBvcHVwXzAzYjBkZWE2YjJjNDQ5MzM5MWEwMDhmMjcxZThhMzhkLnNldENvbnRlbnQoaHRtbF9mZjg3ZmYzMDkzNTg0MWU2YTMwODk5YjZhYjNhNTcwMyk7CiAgICAgICAgICAgIAoKICAgICAgICAgICAgY2lyY2xlX21hcmtlcl85NjFlODJjNGY1NDc0MjRiODQ1Y2I0NGQ1ODc5MjhiYi5iaW5kUG9wdXAocG9wdXBfMDNiMGRlYTZiMmM0NDkzMzkxYTAwOGYyNzFlOGEzOGQpOwoKICAgICAgICAgICAgCiAgICAgICAgCiAgICAKICAgICAgICAgICAgdmFyIGNpcmNsZV9tYXJrZXJfYjg0NWJjYTMxYTZkNDljNDg5ZjdkM2E3MzE2MzNhMjggPSBMLmNpcmNsZU1hcmtlcigKICAgICAgICAgICAgICAgIFs0My42NTk1MjU1LC03OS4zNDA5MjNdLAogICAgICAgICAgICAgICAgewogICJidWJibGluZ01vdXNlRXZlbnRzIjogdHJ1ZSwgCiAgImNvbG9yIjogIiNkNGRkODAiLCAKICAiZGFzaEFycmF5IjogbnVsbCwgCiAgImRhc2hPZmZzZXQiOiBudWxsLCAKICAiZmlsbCI6IHRydWUsIAogICJmaWxsQ29sb3IiOiAiI2Q0ZGQ4MCIsIAogICJmaWxsT3BhY2l0eSI6IDAuNywgCiAgImZpbGxSdWxlIjogImV2ZW5vZGQiLCAKICAibGluZUNhcCI6ICJyb3VuZCIsIAogICJsaW5lSm9pbiI6ICJyb3VuZCIsIAogICJvcGFjaXR5IjogMS4wLCAKICAicmFkaXVzIjogNSwgCiAgInN0cm9rZSI6IHRydWUsIAogICJ3ZWlnaHQiOiAzCn0KICAgICAgICAgICAgICAgICkuYWRkVG8obWFwX2FhM2NmMDUzMjMzZjRhZDhiNWI3NTE4NzE5NWEyYWY2KTsKICAgICAgICAgICAgCiAgICAKICAgICAgICAgICAgdmFyIHBvcHVwXzcwODNjMTllMGY3YjQwYzU5Y2U3OGUzZGQ4ZmE1YWU0ID0gTC5wb3B1cCh7bWF4V2lkdGg6ICczMDAnfSk7CgogICAgICAgICAgICAKICAgICAgICAgICAgICAgIHZhciBodG1sXzJkODQyYTlmMDU5MDRmZDI4MzI3NmY0YmVjYThmOTgyID0gJCgnPGRpdiBpZD0iaHRtbF8yZDg0MmE5ZjA1OTA0ZmQyODMyNzZmNGJlY2E4Zjk4MiIgc3R5bGU9IndpZHRoOiAxMDAuMCU7IGhlaWdodDogMTAwLjAlOyI+U3R1ZGlvIERpc3RyaWN0IENsdXN0ZXIgMzwvZGl2PicpWzBdOwogICAgICAgICAgICAgICAgcG9wdXBfNzA4M2MxOWUwZjdiNDBjNTljZTc4ZTNkZDhmYTVhZTQuc2V0Q29udGVudChodG1sXzJkODQyYTlmMDU5MDRmZDI4MzI3NmY0YmVjYThmOTgyKTsKICAgICAgICAgICAgCgogICAgICAgICAgICBjaXJjbGVfbWFya2VyX2I4NDViY2EzMWE2ZDQ5YzQ4OWY3ZDNhNzMxNjMzYTI4LmJpbmRQb3B1cChwb3B1cF83MDgzYzE5ZTBmN2I0MGM1OWNlNzhlM2RkOGZhNWFlNCk7CgogICAgICAgICAgICAKICAgICAgICAKICAgIAogICAgICAgICAgICB2YXIgY2lyY2xlX21hcmtlcl9jNzE3MWE5ZTA4ZTE0MTBkOTg2YjMxZjliMzM4MDkwNyA9IEwuY2lyY2xlTWFya2VyKAogICAgICAgICAgICAgICAgWzQzLjcyODAyMDUsLTc5LjM4ODc5MDFdLAogICAgICAgICAgICAgICAgewogICJidWJibGluZ01vdXNlRXZlbnRzIjogdHJ1ZSwgCiAgImNvbG9yIjogIiNmZjAwMDAiLCAKICAiZGFzaEFycmF5IjogbnVsbCwgCiAgImRhc2hPZmZzZXQiOiBudWxsLCAKICAiZmlsbCI6IHRydWUsIAogICJmaWxsQ29sb3IiOiAiI2ZmMDAwMCIsIAogICJmaWxsT3BhY2l0eSI6IDAuNywgCiAgImZpbGxSdWxlIjogImV2ZW5vZGQiLCAKICAibGluZUNhcCI6ICJyb3VuZCIsIAogICJsaW5lSm9pbiI6ICJyb3VuZCIsIAogICJvcGFjaXR5IjogMS4wLCAKICAicmFkaXVzIjogNSwgCiAgInN0cm9rZSI6IHRydWUsIAogICJ3ZWlnaHQiOiAzCn0KICAgICAgICAgICAgICAgICkuYWRkVG8obWFwX2FhM2NmMDUzMjMzZjRhZDhiNWI3NTE4NzE5NWEyYWY2KTsKICAgICAgICAgICAgCiAgICAKICAgICAgICAgICAgdmFyIHBvcHVwXzQ0MTY0ZjcxZjA5NzQzYjc4NTcxODg3MWMwODdlNzBhID0gTC5wb3B1cCh7bWF4V2lkdGg6ICczMDAnfSk7CgogICAgICAgICAgICAKICAgICAgICAgICAgICAgIHZhciBodG1sXzQyMjE0OWY4ODYwYjQ0MTVhNTVmMjM2NmFkMWEzZDNhID0gJCgnPGRpdiBpZD0iaHRtbF80MjIxNDlmODg2MGI0NDE1YTU1ZjIzNjZhZDFhM2QzYSIgc3R5bGU9IndpZHRoOiAxMDAuMCU7IGhlaWdodDogMTAwLjAlOyI+TGF3cmVuY2UgUGFyayBDbHVzdGVyIDA8L2Rpdj4nKVswXTsKICAgICAgICAgICAgICAgIHBvcHVwXzQ0MTY0ZjcxZjA5NzQzYjc4NTcxODg3MWMwODdlNzBhLnNldENvbnRlbnQoaHRtbF80MjIxNDlmODg2MGI0NDE1YTU1ZjIzNjZhZDFhM2QzYSk7CiAgICAgICAgICAgIAoKICAgICAgICAgICAgY2lyY2xlX21hcmtlcl9jNzE3MWE5ZTA4ZTE0MTBkOTg2YjMxZjliMzM4MDkwNy5iaW5kUG9wdXAocG9wdXBfNDQxNjRmNzFmMDk3NDNiNzg1NzE4ODcxYzA4N2U3MGEpOwoKICAgICAgICAgICAgCiAgICAgICAgCiAgICAKICAgICAgICAgICAgdmFyIGNpcmNsZV9tYXJrZXJfMWI1NmY2NzcyY2UxNDRmZWE4ZTc4Y2Y5NzNkNzQ2ZGIgPSBMLmNpcmNsZU1hcmtlcigKICAgICAgICAgICAgICAgIFs0My43MTE2OTQ4LC03OS40MTY5MzU2XSwKICAgICAgICAgICAgICAgIHsKICAiYnViYmxpbmdNb3VzZUV2ZW50cyI6IHRydWUsIAogICJjb2xvciI6ICIjZmYwMDAwIiwgCiAgImRhc2hBcnJheSI6IG51bGwsIAogICJkYXNoT2Zmc2V0IjogbnVsbCwgCiAgImZpbGwiOiB0cnVlLCAKICAiZmlsbENvbG9yIjogIiNmZjAwMDAiLCAKICAiZmlsbE9wYWNpdHkiOiAwLjcsIAogICJmaWxsUnVsZSI6ICJldmVub2RkIiwgCiAgImxpbmVDYXAiOiAicm91bmQiLCAKICAibGluZUpvaW4iOiAicm91bmQiLCAKICAib3BhY2l0eSI6IDEuMCwgCiAgInJhZGl1cyI6IDUsIAogICJzdHJva2UiOiB0cnVlLCAKICAid2VpZ2h0IjogMwp9CiAgICAgICAgICAgICAgICApLmFkZFRvKG1hcF9hYTNjZjA1MzIzM2Y0YWQ4YjViNzUxODcxOTVhMmFmNik7CiAgICAgICAgICAgIAogICAgCiAgICAgICAgICAgIHZhciBwb3B1cF9jNGM2OWYwMGNjMGQ0NzllYTYyZDVhMjE2YzEzOTE5ZSA9IEwucG9wdXAoe21heFdpZHRoOiAnMzAwJ30pOwoKICAgICAgICAgICAgCiAgICAgICAgICAgICAgICB2YXIgaHRtbF82MzE2ZGJjNDZmMDI0NDJlOTA0NzM3ODViYmQwOTAzMiA9ICQoJzxkaXYgaWQ9Imh0bWxfNjMxNmRiYzQ2ZjAyNDQyZTkwNDczNzg1YmJkMDkwMzIiIHN0eWxlPSJ3aWR0aDogMTAwLjAlOyBoZWlnaHQ6IDEwMC4wJTsiPlJvc2VsYXduIENsdXN0ZXIgMDwvZGl2PicpWzBdOwogICAgICAgICAgICAgICAgcG9wdXBfYzRjNjlmMDBjYzBkNDc5ZWE2MmQ1YTIxNmMxMzkxOWUuc2V0Q29udGVudChodG1sXzYzMTZkYmM0NmYwMjQ0MmU5MDQ3Mzc4NWJiZDA5MDMyKTsKICAgICAgICAgICAgCgogICAgICAgICAgICBjaXJjbGVfbWFya2VyXzFiNTZmNjc3MmNlMTQ0ZmVhOGU3OGNmOTczZDc0NmRiLmJpbmRQb3B1cChwb3B1cF9jNGM2OWYwMGNjMGQ0NzllYTYyZDVhMjE2YzEzOTE5ZSk7CgogICAgICAgICAgICAKICAgICAgICAKICAgIAogICAgICAgICAgICB2YXIgY2lyY2xlX21hcmtlcl9mMjJkZjk1ZGFmZTY0NjlhOTc3M2RiMmNkZmMxNGNkZSA9IEwuY2lyY2xlTWFya2VyKAogICAgICAgICAgICAgICAgWzQzLjcxMjc1MTEsLTc5LjM5MDE5NzVdLAogICAgICAgICAgICAgICAgewogICJidWJibGluZ01vdXNlRXZlbnRzIjogdHJ1ZSwgCiAgImNvbG9yIjogIiNmZjAwMDAiLCAKICAiZGFzaEFycmF5IjogbnVsbCwgCiAgImRhc2hPZmZzZXQiOiBudWxsLCAKICAiZmlsbCI6IHRydWUsIAogICJmaWxsQ29sb3IiOiAiI2ZmMDAwMCIsIAogICJmaWxsT3BhY2l0eSI6IDAuNywgCiAgImZpbGxSdWxlIjogImV2ZW5vZGQiLCAKICAibGluZUNhcCI6ICJyb3VuZCIsIAogICJsaW5lSm9pbiI6ICJyb3VuZCIsIAogICJvcGFjaXR5IjogMS4wLCAKICAicmFkaXVzIjogNSwgCiAgInN0cm9rZSI6IHRydWUsIAogICJ3ZWlnaHQiOiAzCn0KICAgICAgICAgICAgICAgICkuYWRkVG8obWFwX2FhM2NmMDUzMjMzZjRhZDhiNWI3NTE4NzE5NWEyYWY2KTsKICAgICAgICAgICAgCiAgICAKICAgICAgICAgICAgdmFyIHBvcHVwXzIxOWQ3OGQ5YWI4ZTRjMDNhM2Q2NTc3ZmM2MmE5Zjc0ID0gTC5wb3B1cCh7bWF4V2lkdGg6ICczMDAnfSk7CgogICAgICAgICAgICAKICAgICAgICAgICAgICAgIHZhciBodG1sXzAzODIxYzdlNzA3YTQ3ZDVhYzc2NDIxYTc2MmM4MjEzID0gJCgnPGRpdiBpZD0iaHRtbF8wMzgyMWM3ZTcwN2E0N2Q1YWM3NjQyMWE3NjJjODIxMyIgc3R5bGU9IndpZHRoOiAxMDAuMCU7IGhlaWdodDogMTAwLjAlOyI+RGF2aXN2aWxsZSBOb3J0aCBDbHVzdGVyIDA8L2Rpdj4nKVswXTsKICAgICAgICAgICAgICAgIHBvcHVwXzIxOWQ3OGQ5YWI4ZTRjMDNhM2Q2NTc3ZmM2MmE5Zjc0LnNldENvbnRlbnQoaHRtbF8wMzgyMWM3ZTcwN2E0N2Q1YWM3NjQyMWE3NjJjODIxMyk7CiAgICAgICAgICAgIAoKICAgICAgICAgICAgY2lyY2xlX21hcmtlcl9mMjJkZjk1ZGFmZTY0NjlhOTc3M2RiMmNkZmMxNGNkZS5iaW5kUG9wdXAocG9wdXBfMjE5ZDc4ZDlhYjhlNGMwM2EzZDY1NzdmYzYyYTlmNzQpOwoKICAgICAgICAgICAgCiAgICAgICAgCiAgICAKICAgICAgICAgICAgdmFyIGNpcmNsZV9tYXJrZXJfNmM4OGE0ODg3ZGJiNGZjYzhhNDliYjQwYjAxYThmYmIgPSBMLmNpcmNsZU1hcmtlcigKICAgICAgICAgICAgICAgIFs0My42OTY5NDc2LC03OS40MTEzMDcyXSwKICAgICAgICAgICAgICAgIHsKICAiYnViYmxpbmdNb3VzZUV2ZW50cyI6IHRydWUsIAogICJjb2xvciI6ICIjZmYwMDAwIiwgCiAgImRhc2hBcnJheSI6IG51bGwsIAogICJkYXNoT2Zmc2V0IjogbnVsbCwgCiAgImZpbGwiOiB0cnVlLCAKICAiZmlsbENvbG9yIjogIiNmZjAwMDAiLCAKICAiZmlsbE9wYWNpdHkiOiAwLjcsIAogICJmaWxsUnVsZSI6ICJldmVub2RkIiwgCiAgImxpbmVDYXAiOiAicm91bmQiLCAKICAibGluZUpvaW4iOiAicm91bmQiLCAKICAib3BhY2l0eSI6IDEuMCwgCiAgInJhZGl1cyI6IDUsIAogICJzdHJva2UiOiB0cnVlLCAKICAid2VpZ2h0IjogMwp9CiAgICAgICAgICAgICAgICApLmFkZFRvKG1hcF9hYTNjZjA1MzIzM2Y0YWQ4YjViNzUxODcxOTVhMmFmNik7CiAgICAgICAgICAgIAogICAgCiAgICAgICAgICAgIHZhciBwb3B1cF82YmM2ZDIxY2JkZGE0MGQ5YmExMTJlYzEyZTMwMWNmNyA9IEwucG9wdXAoe21heFdpZHRoOiAnMzAwJ30pOwoKICAgICAgICAgICAgCiAgICAgICAgICAgICAgICB2YXIgaHRtbF8yZThiNWM3YjJmODU0MWMzOGU0MTlmMjFhMjQyNDUxOSA9ICQoJzxkaXYgaWQ9Imh0bWxfMmU4YjVjN2IyZjg1NDFjMzhlNDE5ZjIxYTI0MjQ1MTkiIHN0eWxlPSJ3aWR0aDogMTAwLjAlOyBoZWlnaHQ6IDEwMC4wJTsiPkZvcmVzdCBIaWxsIE5vcnRoICZhbXA7IFdlc3QsIEZvcmVzdCBIaWxsIFJvYWQgUGFyayBDbHVzdGVyIDA8L2Rpdj4nKVswXTsKICAgICAgICAgICAgICAgIHBvcHVwXzZiYzZkMjFjYmRkYTQwZDliYTExMmVjMTJlMzAxY2Y3LnNldENvbnRlbnQoaHRtbF8yZThiNWM3YjJmODU0MWMzOGU0MTlmMjFhMjQyNDUxOSk7CiAgICAgICAgICAgIAoKICAgICAgICAgICAgY2lyY2xlX21hcmtlcl82Yzg4YTQ4ODdkYmI0ZmNjOGE0OWJiNDBiMDFhOGZiYi5iaW5kUG9wdXAocG9wdXBfNmJjNmQyMWNiZGRhNDBkOWJhMTEyZWMxMmUzMDFjZjcpOwoKICAgICAgICAgICAgCiAgICAgICAgCiAgICAKICAgICAgICAgICAgdmFyIGNpcmNsZV9tYXJrZXJfYjlmYmY4Yjg1MjUzNDExNWEwM2ZiYjRmNWJjYmFmMjEgPSBMLmNpcmNsZU1hcmtlcigKICAgICAgICAgICAgICAgIFs0My42NjE2MDgzLC03OS40NjQ3NjMzXSwKICAgICAgICAgICAgICAgIHsKICAiYnViYmxpbmdNb3VzZUV2ZW50cyI6IHRydWUsIAogICJjb2xvciI6ICIjMmFkZGRkIiwgCiAgImRhc2hBcnJheSI6IG51bGwsIAogICJkYXNoT2Zmc2V0IjogbnVsbCwgCiAgImZpbGwiOiB0cnVlLCAKICAiZmlsbENvbG9yIjogIiMyYWRkZGQiLCAKICAiZmlsbE9wYWNpdHkiOiAwLjcsIAogICJmaWxsUnVsZSI6ICJldmVub2RkIiwgCiAgImxpbmVDYXAiOiAicm91bmQiLCAKICAibGluZUpvaW4iOiAicm91bmQiLCAKICAib3BhY2l0eSI6IDEuMCwgCiAgInJhZGl1cyI6IDUsIAogICJzdHJva2UiOiB0cnVlLCAKICAid2VpZ2h0IjogMwp9CiAgICAgICAgICAgICAgICApLmFkZFRvKG1hcF9hYTNjZjA1MzIzM2Y0YWQ4YjViNzUxODcxOTVhMmFmNik7CiAgICAgICAgICAgIAogICAgCiAgICAgICAgICAgIHZhciBwb3B1cF9hMTRhZGY1MjI0MDA0OTUwYWY0N2U5ZmJiZDcwNDFjYSA9IEwucG9wdXAoe21heFdpZHRoOiAnMzAwJ30pOwoKICAgICAgICAgICAgCiAgICAgICAgICAgICAgICB2YXIgaHRtbF83OTIxOTZlMmJhYzU0ODg2YWJlZTNiZjZmNjYzYWE5MSA9ICQoJzxkaXYgaWQ9Imh0bWxfNzkyMTk2ZTJiYWM1NDg4NmFiZWUzYmY2ZjY2M2FhOTEiIHN0eWxlPSJ3aWR0aDogMTAwLjAlOyBoZWlnaHQ6IDEwMC4wJTsiPkhpZ2ggUGFyaywgVGhlIEp1bmN0aW9uIFNvdXRoIENsdXN0ZXIgMjwvZGl2PicpWzBdOwogICAgICAgICAgICAgICAgcG9wdXBfYTE0YWRmNTIyNDAwNDk1MGFmNDdlOWZiYmQ3MDQxY2Euc2V0Q29udGVudChodG1sXzc5MjE5NmUyYmFjNTQ4ODZhYmVlM2JmNmY2NjNhYTkxKTsKICAgICAgICAgICAgCgogICAgICAgICAgICBjaXJjbGVfbWFya2VyX2I5ZmJmOGI4NTI1MzQxMTVhMDNmYmI0ZjViY2JhZjIxLmJpbmRQb3B1cChwb3B1cF9hMTRhZGY1MjI0MDA0OTUwYWY0N2U5ZmJiZDcwNDFjYSk7CgogICAgICAgICAgICAKICAgICAgICAKICAgIAogICAgICAgICAgICB2YXIgY2lyY2xlX21hcmtlcl82M2ZjZmNiNjYzYjQ0YzQyOWNmNGQwOGU5MGEzZTgwZCA9IEwuY2lyY2xlTWFya2VyKAogICAgICAgICAgICAgICAgWzQzLjcxNTM4MzQsLTc5LjQwNTY3ODRdLAogICAgICAgICAgICAgICAgewogICJidWJibGluZ01vdXNlRXZlbnRzIjogdHJ1ZSwgCiAgImNvbG9yIjogIiNmZjAwMDAiLCAKICAiZGFzaEFycmF5IjogbnVsbCwgCiAgImRhc2hPZmZzZXQiOiBudWxsLCAKICAiZmlsbCI6IHRydWUsIAogICJmaWxsQ29sb3IiOiAiI2ZmMDAwMCIsIAogICJmaWxsT3BhY2l0eSI6IDAuNywgCiAgImZpbGxSdWxlIjogImV2ZW5vZGQiLCAKICAibGluZUNhcCI6ICJyb3VuZCIsIAogICJsaW5lSm9pbiI6ICJyb3VuZCIsIAogICJvcGFjaXR5IjogMS4wLCAKICAicmFkaXVzIjogNSwgCiAgInN0cm9rZSI6IHRydWUsIAogICJ3ZWlnaHQiOiAzCn0KICAgICAgICAgICAgICAgICkuYWRkVG8obWFwX2FhM2NmMDUzMjMzZjRhZDhiNWI3NTE4NzE5NWEyYWY2KTsKICAgICAgICAgICAgCiAgICAKICAgICAgICAgICAgdmFyIHBvcHVwX2RiMWI4ZTFiNTEwMzQ5ZTA4YjUwZWQ0NjI0YWQ2ZWI2ID0gTC5wb3B1cCh7bWF4V2lkdGg6ICczMDAnfSk7CgogICAgICAgICAgICAKICAgICAgICAgICAgICAgIHZhciBodG1sXzljYzU0MmUzMjYwYjQ1NjZiMDc3YmIyODZiYzk5ZWY0ID0gJCgnPGRpdiBpZD0iaHRtbF85Y2M1NDJlMzI2MGI0NTY2YjA3N2JiMjg2YmM5OWVmNCIgc3R5bGU9IndpZHRoOiAxMDAuMCU7IGhlaWdodDogMTAwLjAlOyI+Tm9ydGggVG9yb250byBXZXN0LCBMYXdyZW5jZSBQYXJrIENsdXN0ZXIgMDwvZGl2PicpWzBdOwogICAgICAgICAgICAgICAgcG9wdXBfZGIxYjhlMWI1MTAzNDllMDhiNTBlZDQ2MjRhZDZlYjYuc2V0Q29udGVudChodG1sXzljYzU0MmUzMjYwYjQ1NjZiMDc3YmIyODZiYzk5ZWY0KTsKICAgICAgICAgICAgCgogICAgICAgICAgICBjaXJjbGVfbWFya2VyXzYzZmNmY2I2NjNiNDRjNDI5Y2Y0ZDA4ZTkwYTNlODBkLmJpbmRQb3B1cChwb3B1cF9kYjFiOGUxYjUxMDM0OWUwOGI1MGVkNDYyNGFkNmViNik7CgogICAgICAgICAgICAKICAgICAgICAKICAgIAogICAgICAgICAgICB2YXIgY2lyY2xlX21hcmtlcl8yNmVkNTA3ZjA0ZWM0YTEzOTZmOTc5ZTQ4ZDc5M2Y0MiA9IEwuY2lyY2xlTWFya2VyKAogICAgICAgICAgICAgICAgWzQzLjY3MjcwOTcsLTc5LjQwNTY3ODRdLAogICAgICAgICAgICAgICAgewogICJidWJibGluZ01vdXNlRXZlbnRzIjogdHJ1ZSwgCiAgImNvbG9yIjogIiM4MDAwZmYiLCAKICAiZGFzaEFycmF5IjogbnVsbCwgCiAgImRhc2hPZmZzZXQiOiBudWxsLCAKICAiZmlsbCI6IHRydWUsIAogICJmaWxsQ29sb3IiOiAiIzgwMDBmZiIsIAogICJmaWxsT3BhY2l0eSI6IDAuNywgCiAgImZpbGxSdWxlIjogImV2ZW5vZGQiLCAKICAibGluZUNhcCI6ICJyb3VuZCIsIAogICJsaW5lSm9pbiI6ICJyb3VuZCIsIAogICJvcGFjaXR5IjogMS4wLCAKICAicmFkaXVzIjogNSwgCiAgInN0cm9rZSI6IHRydWUsIAogICJ3ZWlnaHQiOiAzCn0KICAgICAgICAgICAgICAgICkuYWRkVG8obWFwX2FhM2NmMDUzMjMzZjRhZDhiNWI3NTE4NzE5NWEyYWY2KTsKICAgICAgICAgICAgCiAgICAKICAgICAgICAgICAgdmFyIHBvcHVwX2M5YmZhYmVlYjEyZTQ2NGRiYTc0N2ZhOGU0MzhmYzk4ID0gTC5wb3B1cCh7bWF4V2lkdGg6ICczMDAnfSk7CgogICAgICAgICAgICAKICAgICAgICAgICAgICAgIHZhciBodG1sXzM4ZGZjOThkNGE4MTQ4OGI5MGRjODA2NzhiYjk5YzQzID0gJCgnPGRpdiBpZD0iaHRtbF8zOGRmYzk4ZDRhODE0ODhiOTBkYzgwNjc4YmI5OWM0MyIgc3R5bGU9IndpZHRoOiAxMDAuMCU7IGhlaWdodDogMTAwLjAlOyI+VGhlIEFubmV4LCBOb3J0aCBNaWR0b3duLCBZb3JrdmlsbGUgQ2x1c3RlciAxPC9kaXY+JylbMF07CiAgICAgICAgICAgICAgICBwb3B1cF9jOWJmYWJlZWIxMmU0NjRkYmE3NDdmYThlNDM4ZmM5OC5zZXRDb250ZW50KGh0bWxfMzhkZmM5OGQ0YTgxNDg4YjkwZGM4MDY3OGJiOTljNDMpOwogICAgICAgICAgICAKCiAgICAgICAgICAgIGNpcmNsZV9tYXJrZXJfMjZlZDUwN2YwNGVjNGExMzk2Zjk3OWU0OGQ3OTNmNDIuYmluZFBvcHVwKHBvcHVwX2M5YmZhYmVlYjEyZTQ2NGRiYTc0N2ZhOGU0MzhmYzk4KTsKCiAgICAgICAgICAgIAogICAgICAgIAogICAgCiAgICAgICAgICAgIHZhciBjaXJjbGVfbWFya2VyX2MxMTJlMjYxMGFiYTQwMzZhOTg1MDUyZTg5YTY5ZmE3ID0gTC5jaXJjbGVNYXJrZXIoCiAgICAgICAgICAgICAgICBbNDMuNjQ4OTU5NywtNzkuNDU2MzI1XSwKICAgICAgICAgICAgICAgIHsKICAiYnViYmxpbmdNb3VzZUV2ZW50cyI6IHRydWUsIAogICJjb2xvciI6ICIjMmFkZGRkIiwgCiAgImRhc2hBcnJheSI6IG51bGwsIAogICJkYXNoT2Zmc2V0IjogbnVsbCwgCiAgImZpbGwiOiB0cnVlLCAKICAiZmlsbENvbG9yIjogIiMyYWRkZGQiLCAKICAiZmlsbE9wYWNpdHkiOiAwLjcsIAogICJmaWxsUnVsZSI6ICJldmVub2RkIiwgCiAgImxpbmVDYXAiOiAicm91bmQiLCAKICAibGluZUpvaW4iOiAicm91bmQiLCAKICAib3BhY2l0eSI6IDEuMCwgCiAgInJhZGl1cyI6IDUsIAogICJzdHJva2UiOiB0cnVlLCAKICAid2VpZ2h0IjogMwp9CiAgICAgICAgICAgICAgICApLmFkZFRvKG1hcF9hYTNjZjA1MzIzM2Y0YWQ4YjViNzUxODcxOTVhMmFmNik7CiAgICAgICAgICAgIAogICAgCiAgICAgICAgICAgIHZhciBwb3B1cF85NDcwYmZlZjA3MWQ0NmRmYTczNjgyYzg2MDcyYzE5MCA9IEwucG9wdXAoe21heFdpZHRoOiAnMzAwJ30pOwoKICAgICAgICAgICAgCiAgICAgICAgICAgICAgICB2YXIgaHRtbF8zNzU5MjQ1ZTQwMmE0NmFhODEzNmZiYTg5MWI2MzcwZSA9ICQoJzxkaXYgaWQ9Imh0bWxfMzc1OTI0NWU0MDJhNDZhYTgxMzZmYmE4OTFiNjM3MGUiIHN0eWxlPSJ3aWR0aDogMTAwLjAlOyBoZWlnaHQ6IDEwMC4wJTsiPlBhcmtkYWxlLCBSb25jZXN2YWxsZXMgQ2x1c3RlciAyPC9kaXY+JylbMF07CiAgICAgICAgICAgICAgICBwb3B1cF85NDcwYmZlZjA3MWQ0NmRmYTczNjgyYzg2MDcyYzE5MC5zZXRDb250ZW50KGh0bWxfMzc1OTI0NWU0MDJhNDZhYTgxMzZmYmE4OTFiNjM3MGUpOwogICAgICAgICAgICAKCiAgICAgICAgICAgIGNpcmNsZV9tYXJrZXJfYzExMmUyNjEwYWJhNDAzNmE5ODUwNTJlODlhNjlmYTcuYmluZFBvcHVwKHBvcHVwXzk0NzBiZmVmMDcxZDQ2ZGZhNzM2ODJjODYwNzJjMTkwKTsKCiAgICAgICAgICAgIAogICAgICAgIAogICAgCiAgICAgICAgICAgIHZhciBjaXJjbGVfbWFya2VyXzBjZTQ2YzM2MTRjZTQzYmU5NTA2NDlmODUwZDVkMmFkID0gTC5jaXJjbGVNYXJrZXIoCiAgICAgICAgICAgICAgICBbNDMuNzA0MzI0NCwtNzkuMzg4NzkwMV0sCiAgICAgICAgICAgICAgICB7CiAgImJ1YmJsaW5nTW91c2VFdmVudHMiOiB0cnVlLCAKICAiY29sb3IiOiAiI2ZmMDAwMCIsIAogICJkYXNoQXJyYXkiOiBudWxsLCAKICAiZGFzaE9mZnNldCI6IG51bGwsIAogICJmaWxsIjogdHJ1ZSwgCiAgImZpbGxDb2xvciI6ICIjZmYwMDAwIiwgCiAgImZpbGxPcGFjaXR5IjogMC43LCAKICAiZmlsbFJ1bGUiOiAiZXZlbm9kZCIsIAogICJsaW5lQ2FwIjogInJvdW5kIiwgCiAgImxpbmVKb2luIjogInJvdW5kIiwgCiAgIm9wYWNpdHkiOiAxLjAsIAogICJyYWRpdXMiOiA1LCAKICAic3Ryb2tlIjogdHJ1ZSwgCiAgIndlaWdodCI6IDMKfQogICAgICAgICAgICAgICAgKS5hZGRUbyhtYXBfYWEzY2YwNTMyMzNmNGFkOGI1Yjc1MTg3MTk1YTJhZjYpOwogICAgICAgICAgICAKICAgIAogICAgICAgICAgICB2YXIgcG9wdXBfNmQ5OTRlNTFmOTAyNGI5OWE1M2UzZTMyOTJhMTA5YzYgPSBMLnBvcHVwKHttYXhXaWR0aDogJzMwMCd9KTsKCiAgICAgICAgICAgIAogICAgICAgICAgICAgICAgdmFyIGh0bWxfNTZhZTUxMDdhOGUxNGEwMmIzMDQ3ZTA1NGZmMWEyN2EgPSAkKCc8ZGl2IGlkPSJodG1sXzU2YWU1MTA3YThlMTRhMDJiMzA0N2UwNTRmZjFhMjdhIiBzdHlsZT0id2lkdGg6IDEwMC4wJTsgaGVpZ2h0OiAxMDAuMCU7Ij5EYXZpc3ZpbGxlIENsdXN0ZXIgMDwvZGl2PicpWzBdOwogICAgICAgICAgICAgICAgcG9wdXBfNmQ5OTRlNTFmOTAyNGI5OWE1M2UzZTMyOTJhMTA5YzYuc2V0Q29udGVudChodG1sXzU2YWU1MTA3YThlMTRhMDJiMzA0N2UwNTRmZjFhMjdhKTsKICAgICAgICAgICAgCgogICAgICAgICAgICBjaXJjbGVfbWFya2VyXzBjZTQ2YzM2MTRjZTQzYmU5NTA2NDlmODUwZDVkMmFkLmJpbmRQb3B1cChwb3B1cF82ZDk5NGU1MWY5MDI0Yjk5YTUzZTNlMzI5MmExMDljNik7CgogICAgICAgICAgICAKICAgICAgICAKICAgIAogICAgICAgICAgICB2YXIgY2lyY2xlX21hcmtlcl8yNzBkOTBkYWQyYjU0NjYyOTc3Mjg3MGQyMzc4NDZmMCA9IEwuY2lyY2xlTWFya2VyKAogICAgICAgICAgICAgICAgWzQzLjY2MjY5NTYsLTc5LjQwMDA0OTNdLAogICAgICAgICAgICAgICAgewogICJidWJibGluZ01vdXNlRXZlbnRzIjogdHJ1ZSwgCiAgImNvbG9yIjogIiM4MDAwZmYiLCAKICAiZGFzaEFycmF5IjogbnVsbCwgCiAgImRhc2hPZmZzZXQiOiBudWxsLCAKICAiZmlsbCI6IHRydWUsIAogICJmaWxsQ29sb3IiOiAiIzgwMDBmZiIsIAogICJmaWxsT3BhY2l0eSI6IDAuNywgCiAgImZpbGxSdWxlIjogImV2ZW5vZGQiLCAKICAibGluZUNhcCI6ICJyb3VuZCIsIAogICJsaW5lSm9pbiI6ICJyb3VuZCIsIAogICJvcGFjaXR5IjogMS4wLCAKICAicmFkaXVzIjogNSwgCiAgInN0cm9rZSI6IHRydWUsIAogICJ3ZWlnaHQiOiAzCn0KICAgICAgICAgICAgICAgICkuYWRkVG8obWFwX2FhM2NmMDUzMjMzZjRhZDhiNWI3NTE4NzE5NWEyYWY2KTsKICAgICAgICAgICAgCiAgICAKICAgICAgICAgICAgdmFyIHBvcHVwX2E0MWY1MjU1YzFlODQzM2Q4MmMwOTMwYzExYTQ4NjE4ID0gTC5wb3B1cCh7bWF4V2lkdGg6ICczMDAnfSk7CgogICAgICAgICAgICAKICAgICAgICAgICAgICAgIHZhciBodG1sXzMxMTdhMjU5YzZlMTQ1MmJiYTEyMGU4NjNkZDI1YjZlID0gJCgnPGRpdiBpZD0iaHRtbF8zMTE3YTI1OWM2ZTE0NTJiYmExMjBlODYzZGQyNWI2ZSIgc3R5bGU9IndpZHRoOiAxMDAuMCU7IGhlaWdodDogMTAwLjAlOyI+VW5pdmVyc2l0eSBvZiBUb3JvbnRvLCBIYXJib3JkIENsdXN0ZXIgMTwvZGl2PicpWzBdOwogICAgICAgICAgICAgICAgcG9wdXBfYTQxZjUyNTVjMWU4NDMzZDgyYzA5MzBjMTFhNDg2MTguc2V0Q29udGVudChodG1sXzMxMTdhMjU5YzZlMTQ1MmJiYTEyMGU4NjNkZDI1YjZlKTsKICAgICAgICAgICAgCgogICAgICAgICAgICBjaXJjbGVfbWFya2VyXzI3MGQ5MGRhZDJiNTQ2NjI5NzcyODcwZDIzNzg0NmYwLmJpbmRQb3B1cChwb3B1cF9hNDFmNTI1NWMxZTg0MzNkODJjMDkzMGMxMWE0ODYxOCk7CgogICAgICAgICAgICAKICAgICAgICAKICAgIAogICAgICAgICAgICB2YXIgY2lyY2xlX21hcmtlcl85YjIyMmEzZDQ0YTk0ZTRkYTliZDRlMGEyMTE3MjQ2MCA9IEwuY2lyY2xlTWFya2VyKAogICAgICAgICAgICAgICAgWzQzLjY1MTU3MDYsLTc5LjQ4NDQ0OTldLAogICAgICAgICAgICAgICAgewogICJidWJibGluZ01vdXNlRXZlbnRzIjogdHJ1ZSwgCiAgImNvbG9yIjogIiMyYWRkZGQiLCAKICAiZGFzaEFycmF5IjogbnVsbCwgCiAgImRhc2hPZmZzZXQiOiBudWxsLCAKICAiZmlsbCI6IHRydWUsIAogICJmaWxsQ29sb3IiOiAiIzJhZGRkZCIsIAogICJmaWxsT3BhY2l0eSI6IDAuNywgCiAgImZpbGxSdWxlIjogImV2ZW5vZGQiLCAKICAibGluZUNhcCI6ICJyb3VuZCIsIAogICJsaW5lSm9pbiI6ICJyb3VuZCIsIAogICJvcGFjaXR5IjogMS4wLCAKICAicmFkaXVzIjogNSwgCiAgInN0cm9rZSI6IHRydWUsIAogICJ3ZWlnaHQiOiAzCn0KICAgICAgICAgICAgICAgICkuYWRkVG8obWFwX2FhM2NmMDUzMjMzZjRhZDhiNWI3NTE4NzE5NWEyYWY2KTsKICAgICAgICAgICAgCiAgICAKICAgICAgICAgICAgdmFyIHBvcHVwXzZjYjg0YzA5N2FkMTRmMTc4ZDJjMmFhNDY1M2E2MTM4ID0gTC5wb3B1cCh7bWF4V2lkdGg6ICczMDAnfSk7CgogICAgICAgICAgICAKICAgICAgICAgICAgICAgIHZhciBodG1sXzVjYmRhN2IwYmExNTQwZDA5ODhiNGQyMWMzNTEwMGJmID0gJCgnPGRpdiBpZD0iaHRtbF81Y2JkYTdiMGJhMTU0MGQwOTg4YjRkMjFjMzUxMDBiZiIgc3R5bGU9IndpZHRoOiAxMDAuMCU7IGhlaWdodDogMTAwLjAlOyI+UnVubnltZWRlLCBTd2Fuc2VhIENsdXN0ZXIgMjwvZGl2PicpWzBdOwogICAgICAgICAgICAgICAgcG9wdXBfNmNiODRjMDk3YWQxNGYxNzhkMmMyYWE0NjUzYTYxMzguc2V0Q29udGVudChodG1sXzVjYmRhN2IwYmExNTQwZDA5ODhiNGQyMWMzNTEwMGJmKTsKICAgICAgICAgICAgCgogICAgICAgICAgICBjaXJjbGVfbWFya2VyXzliMjIyYTNkNDRhOTRlNGRhOWJkNGUwYTIxMTcyNDYwLmJpbmRQb3B1cChwb3B1cF82Y2I4NGMwOTdhZDE0ZjE3OGQyYzJhYTQ2NTNhNjEzOCk7CgogICAgICAgICAgICAKICAgICAgICAKICAgIAogICAgICAgICAgICB2YXIgY2lyY2xlX21hcmtlcl81YjcwZDYzYTkwZTI0NDU5YTAyOTU5YWEyOWIxYTM4ZiA9IEwuY2lyY2xlTWFya2VyKAogICAgICAgICAgICAgICAgWzQzLjY4OTU3NDMsLTc5LjM4MzE1OTldLAogICAgICAgICAgICAgICAgewogICJidWJibGluZ01vdXNlRXZlbnRzIjogdHJ1ZSwgCiAgImNvbG9yIjogIiNmZjAwMDAiLCAKICAiZGFzaEFycmF5IjogbnVsbCwgCiAgImRhc2hPZmZzZXQiOiBudWxsLCAKICAiZmlsbCI6IHRydWUsIAogICJmaWxsQ29sb3IiOiAiI2ZmMDAwMCIsIAogICJmaWxsT3BhY2l0eSI6IDAuNywgCiAgImZpbGxSdWxlIjogImV2ZW5vZGQiLCAKICAibGluZUNhcCI6ICJyb3VuZCIsIAogICJsaW5lSm9pbiI6ICJyb3VuZCIsIAogICJvcGFjaXR5IjogMS4wLCAKICAicmFkaXVzIjogNSwgCiAgInN0cm9rZSI6IHRydWUsIAogICJ3ZWlnaHQiOiAzCn0KICAgICAgICAgICAgICAgICkuYWRkVG8obWFwX2FhM2NmMDUzMjMzZjRhZDhiNWI3NTE4NzE5NWEyYWY2KTsKICAgICAgICAgICAgCiAgICAKICAgICAgICAgICAgdmFyIHBvcHVwX2ZlOWQ0ODc4NWE4NTRlNzNiZDcxNjU5MzdlNWJlOTBjID0gTC5wb3B1cCh7bWF4V2lkdGg6ICczMDAnfSk7CgogICAgICAgICAgICAKICAgICAgICAgICAgICAgIHZhciBodG1sXzFlN2YzMjk5MTJkYjQ1ZDhiOTk3NzY1NWEzNDE4NzZmID0gJCgnPGRpdiBpZD0iaHRtbF8xZTdmMzI5OTEyZGI0NWQ4Yjk5Nzc2NTVhMzQxODc2ZiIgc3R5bGU9IndpZHRoOiAxMDAuMCU7IGhlaWdodDogMTAwLjAlOyI+TW9vcmUgUGFyaywgU3VtbWVyaGlsbCBFYXN0IENsdXN0ZXIgMDwvZGl2PicpWzBdOwogICAgICAgICAgICAgICAgcG9wdXBfZmU5ZDQ4Nzg1YTg1NGU3M2JkNzE2NTkzN2U1YmU5MGMuc2V0Q29udGVudChodG1sXzFlN2YzMjk5MTJkYjQ1ZDhiOTk3NzY1NWEzNDE4NzZmKTsKICAgICAgICAgICAgCgogICAgICAgICAgICBjaXJjbGVfbWFya2VyXzViNzBkNjNhOTBlMjQ0NTlhMDI5NTlhYTI5YjFhMzhmLmJpbmRQb3B1cChwb3B1cF9mZTlkNDg3ODVhODU0ZTczYmQ3MTY1OTM3ZTViZTkwYyk7CgogICAgICAgICAgICAKICAgICAgICAKICAgIAogICAgICAgICAgICB2YXIgY2lyY2xlX21hcmtlcl8zOGEzYWFiYjhjMzE0YTM5YTM1OWYxZjY3NzQ3ZTY2ZCA9IEwuY2lyY2xlTWFya2VyKAogICAgICAgICAgICAgICAgWzQzLjY1MzIwNTcsLTc5LjQwMDA0OTNdLAogICAgICAgICAgICAgICAgewogICJidWJibGluZ01vdXNlRXZlbnRzIjogdHJ1ZSwgCiAgImNvbG9yIjogIiM4MDAwZmYiLCAKICAiZGFzaEFycmF5IjogbnVsbCwgCiAgImRhc2hPZmZzZXQiOiBudWxsLCAKICAiZmlsbCI6IHRydWUsIAogICJmaWxsQ29sb3IiOiAiIzgwMDBmZiIsIAogICJmaWxsT3BhY2l0eSI6IDAuNywgCiAgImZpbGxSdWxlIjogImV2ZW5vZGQiLCAKICAibGluZUNhcCI6ICJyb3VuZCIsIAogICJsaW5lSm9pbiI6ICJyb3VuZCIsIAogICJvcGFjaXR5IjogMS4wLCAKICAicmFkaXVzIjogNSwgCiAgInN0cm9rZSI6IHRydWUsIAogICJ3ZWlnaHQiOiAzCn0KICAgICAgICAgICAgICAgICkuYWRkVG8obWFwX2FhM2NmMDUzMjMzZjRhZDhiNWI3NTE4NzE5NWEyYWY2KTsKICAgICAgICAgICAgCiAgICAKICAgICAgICAgICAgdmFyIHBvcHVwXzM0MjBjZWRmOTc3NDQxNTBiYWMzYjFkNGYyNTM1MDRhID0gTC5wb3B1cCh7bWF4V2lkdGg6ICczMDAnfSk7CgogICAgICAgICAgICAKICAgICAgICAgICAgICAgIHZhciBodG1sX2FhNDMwZTUwMjRjMzQ2MThiZTZjMTM1YmRiODgwNmQyID0gJCgnPGRpdiBpZD0iaHRtbF9hYTQzMGU1MDI0YzM0NjE4YmU2YzEzNWJkYjg4MDZkMiIgc3R5bGU9IndpZHRoOiAxMDAuMCU7IGhlaWdodDogMTAwLjAlOyI+S2Vuc2luZ3RvbiBNYXJrZXQsIENoaW5hdG93biwgR3JhbmdlIFBhcmsgQ2x1c3RlciAxPC9kaXY+JylbMF07CiAgICAgICAgICAgICAgICBwb3B1cF8zNDIwY2VkZjk3NzQ0MTUwYmFjM2IxZDRmMjUzNTA0YS5zZXRDb250ZW50KGh0bWxfYWE0MzBlNTAyNGMzNDYxOGJlNmMxMzViZGI4ODA2ZDIpOwogICAgICAgICAgICAKCiAgICAgICAgICAgIGNpcmNsZV9tYXJrZXJfMzhhM2FhYmI4YzMxNGEzOWEzNTlmMWY2Nzc0N2U2NmQuYmluZFBvcHVwKHBvcHVwXzM0MjBjZWRmOTc3NDQxNTBiYWMzYjFkNGYyNTM1MDRhKTsKCiAgICAgICAgICAgIAogICAgICAgIAogICAgCiAgICAgICAgICAgIHZhciBjaXJjbGVfbWFya2VyXzRjODkzYTdiYTIwOTQyMDdhYTcxNmUyYjBiZmU2MTc1ID0gTC5jaXJjbGVNYXJrZXIoCiAgICAgICAgICAgICAgICBbNDMuNjg2NDEyMywtNzkuNDAwMDQ5M10sCiAgICAgICAgICAgICAgICB7CiAgImJ1YmJsaW5nTW91c2VFdmVudHMiOiB0cnVlLCAKICAiY29sb3IiOiAiI2ZmMDAwMCIsIAogICJkYXNoQXJyYXkiOiBudWxsLCAKICAiZGFzaE9mZnNldCI6IG51bGwsIAogICJmaWxsIjogdHJ1ZSwgCiAgImZpbGxDb2xvciI6ICIjZmYwMDAwIiwgCiAgImZpbGxPcGFjaXR5IjogMC43LCAKICAiZmlsbFJ1bGUiOiAiZXZlbm9kZCIsIAogICJsaW5lQ2FwIjogInJvdW5kIiwgCiAgImxpbmVKb2luIjogInJvdW5kIiwgCiAgIm9wYWNpdHkiOiAxLjAsIAogICJyYWRpdXMiOiA1LCAKICAic3Ryb2tlIjogdHJ1ZSwgCiAgIndlaWdodCI6IDMKfQogICAgICAgICAgICAgICAgKS5hZGRUbyhtYXBfYWEzY2YwNTMyMzNmNGFkOGI1Yjc1MTg3MTk1YTJhZjYpOwogICAgICAgICAgICAKICAgIAogICAgICAgICAgICB2YXIgcG9wdXBfNjJiNjdhMGVkNWQwNGQyNDlhMWY5YWY2MzczMGIwOGYgPSBMLnBvcHVwKHttYXhXaWR0aDogJzMwMCd9KTsKCiAgICAgICAgICAgIAogICAgICAgICAgICAgICAgdmFyIGh0bWxfZTBlZmFhN2M2NGI4NGZhM2EwNjBhYTVlMDE1MTk0OGMgPSAkKCc8ZGl2IGlkPSJodG1sX2UwZWZhYTdjNjRiODRmYTNhMDYwYWE1ZTAxNTE5NDhjIiBzdHlsZT0id2lkdGg6IDEwMC4wJTsgaGVpZ2h0OiAxMDAuMCU7Ij5TdW1tZXJoaWxsIFdlc3QsIFJhdGhuZWxseSwgU291dGggSGlsbCwgRm9yZXN0IEhpbGwgU0UsIERlZXIgUGFyayBDbHVzdGVyIDA8L2Rpdj4nKVswXTsKICAgICAgICAgICAgICAgIHBvcHVwXzYyYjY3YTBlZDVkMDRkMjQ5YTFmOWFmNjM3MzBiMDhmLnNldENvbnRlbnQoaHRtbF9lMGVmYWE3YzY0Yjg0ZmEzYTA2MGFhNWUwMTUxOTQ4Yyk7CiAgICAgICAgICAgIAoKICAgICAgICAgICAgY2lyY2xlX21hcmtlcl80Yzg5M2E3YmEyMDk0MjA3YWE3MTZlMmIwYmZlNjE3NS5iaW5kUG9wdXAocG9wdXBfNjJiNjdhMGVkNWQwNGQyNDlhMWY5YWY2MzczMGIwOGYpOwoKICAgICAgICAgICAgCiAgICAgICAgCiAgICAKICAgICAgICAgICAgdmFyIGNpcmNsZV9tYXJrZXJfNmUwZGYxYTdmYzY0NGY4YmE5YmJjNzNjYzgzZTdlYmIgPSBMLmNpcmNsZU1hcmtlcigKICAgICAgICAgICAgICAgIFs0My42Mjg5NDY3LC03OS4zOTQ0MTk5XSwKICAgICAgICAgICAgICAgIHsKICAiYnViYmxpbmdNb3VzZUV2ZW50cyI6IHRydWUsIAogICJjb2xvciI6ICIjODAwMGZmIiwgCiAgImRhc2hBcnJheSI6IG51bGwsIAogICJkYXNoT2Zmc2V0IjogbnVsbCwgCiAgImZpbGwiOiB0cnVlLCAKICAiZmlsbENvbG9yIjogIiM4MDAwZmYiLCAKICAiZmlsbE9wYWNpdHkiOiAwLjcsIAogICJmaWxsUnVsZSI6ICJldmVub2RkIiwgCiAgImxpbmVDYXAiOiAicm91bmQiLCAKICAibGluZUpvaW4iOiAicm91bmQiLCAKICAib3BhY2l0eSI6IDEuMCwgCiAgInJhZGl1cyI6IDUsIAogICJzdHJva2UiOiB0cnVlLCAKICAid2VpZ2h0IjogMwp9CiAgICAgICAgICAgICAgICApLmFkZFRvKG1hcF9hYTNjZjA1MzIzM2Y0YWQ4YjViNzUxODcxOTVhMmFmNik7CiAgICAgICAgICAgIAogICAgCiAgICAgICAgICAgIHZhciBwb3B1cF81ZjcxNWU4Nzc3OWU0NWI5ODBlMjNkMmFiZTg2YjA0MiA9IEwucG9wdXAoe21heFdpZHRoOiAnMzAwJ30pOwoKICAgICAgICAgICAgCiAgICAgICAgICAgICAgICB2YXIgaHRtbF9mOWY0M2EwMTQ3ODg0NGJiYTVhNWRhMTU1NGJkY2Q2NSA9ICQoJzxkaXYgaWQ9Imh0bWxfZjlmNDNhMDE0Nzg4NDRiYmE1YTVkYTE1NTRiZGNkNjUiIHN0eWxlPSJ3aWR0aDogMTAwLjAlOyBoZWlnaHQ6IDEwMC4wJTsiPkNOIFRvd2VyLCBLaW5nIGFuZCBTcGFkaW5hLCBSYWlsd2F5IExhbmRzLCBIYXJib3VyZnJvbnQgV2VzdCwgQmF0aHVyc3QgUXVheSwgU291dGggTmlhZ2FyYSwgSXNsYW5kIGFpcnBvcnQgQ2x1c3RlciAxPC9kaXY+JylbMF07CiAgICAgICAgICAgICAgICBwb3B1cF81ZjcxNWU4Nzc3OWU0NWI5ODBlMjNkMmFiZTg2YjA0Mi5zZXRDb250ZW50KGh0bWxfZjlmNDNhMDE0Nzg4NDRiYmE1YTVkYTE1NTRiZGNkNjUpOwogICAgICAgICAgICAKCiAgICAgICAgICAgIGNpcmNsZV9tYXJrZXJfNmUwZGYxYTdmYzY0NGY4YmE5YmJjNzNjYzgzZTdlYmIuYmluZFBvcHVwKHBvcHVwXzVmNzE1ZTg3Nzc5ZTQ1Yjk4MGUyM2QyYWJlODZiMDQyKTsKCiAgICAgICAgICAgIAogICAgICAgIAogICAgCiAgICAgICAgICAgIHZhciBjaXJjbGVfbWFya2VyXzg4ZjZkNmEzYTIxOTRhZTdhMzI4YWJmMzljMGMzZTg0ID0gTC5jaXJjbGVNYXJrZXIoCiAgICAgICAgICAgICAgICBbNDMuNjc5NTYyNiwtNzkuMzc3NTI5NF0sCiAgICAgICAgICAgICAgICB7CiAgImJ1YmJsaW5nTW91c2VFdmVudHMiOiB0cnVlLCAKICAiY29sb3IiOiAiIzgwMDBmZiIsIAogICJkYXNoQXJyYXkiOiBudWxsLCAKICAiZGFzaE9mZnNldCI6IG51bGwsIAogICJmaWxsIjogdHJ1ZSwgCiAgImZpbGxDb2xvciI6ICIjODAwMGZmIiwgCiAgImZpbGxPcGFjaXR5IjogMC43LCAKICAiZmlsbFJ1bGUiOiAiZXZlbm9kZCIsIAogICJsaW5lQ2FwIjogInJvdW5kIiwgCiAgImxpbmVKb2luIjogInJvdW5kIiwgCiAgIm9wYWNpdHkiOiAxLjAsIAogICJyYWRpdXMiOiA1LCAKICAic3Ryb2tlIjogdHJ1ZSwgCiAgIndlaWdodCI6IDMKfQogICAgICAgICAgICAgICAgKS5hZGRUbyhtYXBfYWEzY2YwNTMyMzNmNGFkOGI1Yjc1MTg3MTk1YTJhZjYpOwogICAgICAgICAgICAKICAgIAogICAgICAgICAgICB2YXIgcG9wdXBfZDUyYTAwNzM2NjY0NGE1MThlMDlkNzFjMTFmOGM0MzUgPSBMLnBvcHVwKHttYXhXaWR0aDogJzMwMCd9KTsKCiAgICAgICAgICAgIAogICAgICAgICAgICAgICAgdmFyIGh0bWxfODk2ODUwOTI0YmQ2NGYzM2JmMjcwM2YzNGJjNTc2ZmEgPSAkKCc8ZGl2IGlkPSJodG1sXzg5Njg1MDkyNGJkNjRmMzNiZjI3MDNmMzRiYzU3NmZhIiBzdHlsZT0id2lkdGg6IDEwMC4wJTsgaGVpZ2h0OiAxMDAuMCU7Ij5Sb3NlZGFsZSBDbHVzdGVyIDE8L2Rpdj4nKVswXTsKICAgICAgICAgICAgICAgIHBvcHVwX2Q1MmEwMDczNjY2NDRhNTE4ZTA5ZDcxYzExZjhjNDM1LnNldENvbnRlbnQoaHRtbF84OTY4NTA5MjRiZDY0ZjMzYmYyNzAzZjM0YmM1NzZmYSk7CiAgICAgICAgICAgIAoKICAgICAgICAgICAgY2lyY2xlX21hcmtlcl84OGY2ZDZhM2EyMTk0YWU3YTMyOGFiZjM5YzBjM2U4NC5iaW5kUG9wdXAocG9wdXBfZDUyYTAwNzM2NjY0NGE1MThlMDlkNzFjMTFmOGM0MzUpOwoKICAgICAgICAgICAgCiAgICAgICAgCiAgICAKICAgICAgICAgICAgdmFyIGNpcmNsZV9tYXJrZXJfYTJmZjczN2JlM2MwNDVlMjllZjNmNzg1MWRhMGE1MGYgPSBMLmNpcmNsZU1hcmtlcigKICAgICAgICAgICAgICAgIFs0My42NDY0MzUyLC03OS4zNzQ4NDZdLAogICAgICAgICAgICAgICAgewogICJidWJibGluZ01vdXNlRXZlbnRzIjogdHJ1ZSwgCiAgImNvbG9yIjogIiM4MDAwZmYiLCAKICAiZGFzaEFycmF5IjogbnVsbCwgCiAgImRhc2hPZmZzZXQiOiBudWxsLCAKICAiZmlsbCI6IHRydWUsIAogICJmaWxsQ29sb3IiOiAiIzgwMDBmZiIsIAogICJmaWxsT3BhY2l0eSI6IDAuNywgCiAgImZpbGxSdWxlIjogImV2ZW5vZGQiLCAKICAibGluZUNhcCI6ICJyb3VuZCIsIAogICJsaW5lSm9pbiI6ICJyb3VuZCIsIAogICJvcGFjaXR5IjogMS4wLCAKICAicmFkaXVzIjogNSwgCiAgInN0cm9rZSI6IHRydWUsIAogICJ3ZWlnaHQiOiAzCn0KICAgICAgICAgICAgICAgICkuYWRkVG8obWFwX2FhM2NmMDUzMjMzZjRhZDhiNWI3NTE4NzE5NWEyYWY2KTsKICAgICAgICAgICAgCiAgICAKICAgICAgICAgICAgdmFyIHBvcHVwX2U4ZDdlNmMxNDQ4YzQzODhiYjQzNDA5ODZlYjdlNGRkID0gTC5wb3B1cCh7bWF4V2lkdGg6ICczMDAnfSk7CgogICAgICAgICAgICAKICAgICAgICAgICAgICAgIHZhciBodG1sX2U1MDc5ZDdjYjU2NzQyMjk5MTIyMzE4ZWZjMWJlZWM5ID0gJCgnPGRpdiBpZD0iaHRtbF9lNTA3OWQ3Y2I1Njc0MjI5OTEyMjMxOGVmYzFiZWVjOSIgc3R5bGU9IndpZHRoOiAxMDAuMCU7IGhlaWdodDogMTAwLjAlOyI+U3RuIEEgUE8gQm94ZXMgQ2x1c3RlciAxPC9kaXY+JylbMF07CiAgICAgICAgICAgICAgICBwb3B1cF9lOGQ3ZTZjMTQ0OGM0Mzg4YmI0MzQwOTg2ZWI3ZTRkZC5zZXRDb250ZW50KGh0bWxfZTUwNzlkN2NiNTY3NDIyOTkxMjIzMThlZmMxYmVlYzkpOwogICAgICAgICAgICAKCiAgICAgICAgICAgIGNpcmNsZV9tYXJrZXJfYTJmZjczN2JlM2MwNDVlMjllZjNmNzg1MWRhMGE1MGYuYmluZFBvcHVwKHBvcHVwX2U4ZDdlNmMxNDQ4YzQzODhiYjQzNDA5ODZlYjdlNGRkKTsKCiAgICAgICAgICAgIAogICAgICAgIAogICAgCiAgICAgICAgICAgIHZhciBjaXJjbGVfbWFya2VyXzFhMDkyYWEyZWYyMjQzNzFiMjdjMDQ2ZWVkOWEyMjhhID0gTC5jaXJjbGVNYXJrZXIoCiAgICAgICAgICAgICAgICBbNDMuNjY3OTY3LC03OS4zNjc2NzUzXSwKICAgICAgICAgICAgICAgIHsKICAiYnViYmxpbmdNb3VzZUV2ZW50cyI6IHRydWUsIAogICJjb2xvciI6ICIjODAwMGZmIiwgCiAgImRhc2hBcnJheSI6IG51bGwsIAogICJkYXNoT2Zmc2V0IjogbnVsbCwgCiAgImZpbGwiOiB0cnVlLCAKICAiZmlsbENvbG9yIjogIiM4MDAwZmYiLCAKICAiZmlsbE9wYWNpdHkiOiAwLjcsIAogICJmaWxsUnVsZSI6ICJldmVub2RkIiwgCiAgImxpbmVDYXAiOiAicm91bmQiLCAKICAibGluZUpvaW4iOiAicm91bmQiLCAKICAib3BhY2l0eSI6IDEuMCwgCiAgInJhZGl1cyI6IDUsIAogICJzdHJva2UiOiB0cnVlLCAKICAid2VpZ2h0IjogMwp9CiAgICAgICAgICAgICAgICApLmFkZFRvKG1hcF9hYTNjZjA1MzIzM2Y0YWQ4YjViNzUxODcxOTVhMmFmNik7CiAgICAgICAgICAgIAogICAgCiAgICAgICAgICAgIHZhciBwb3B1cF9iYzIwZTMyZWMzNjg0YTYwODllYmJjYTQxMGFjZTNmMyA9IEwucG9wdXAoe21heFdpZHRoOiAnMzAwJ30pOwoKICAgICAgICAgICAgCiAgICAgICAgICAgICAgICB2YXIgaHRtbF80MDdhNjgwZTljNzc0NWIyYmRkMzE0ZDU0ODQ3OWQ1OSA9ICQoJzxkaXYgaWQ9Imh0bWxfNDA3YTY4MGU5Yzc3NDViMmJkZDMxNGQ1NDg0NzlkNTkiIHN0eWxlPSJ3aWR0aDogMTAwLjAlOyBoZWlnaHQ6IDEwMC4wJTsiPlN0LiBKYW1lcyBUb3duLCBDYWJiYWdldG93biBDbHVzdGVyIDE8L2Rpdj4nKVswXTsKICAgICAgICAgICAgICAgIHBvcHVwX2JjMjBlMzJlYzM2ODRhNjA4OWViYmNhNDEwYWNlM2YzLnNldENvbnRlbnQoaHRtbF80MDdhNjgwZTljNzc0NWIyYmRkMzE0ZDU0ODQ3OWQ1OSk7CiAgICAgICAgICAgIAoKICAgICAgICAgICAgY2lyY2xlX21hcmtlcl8xYTA5MmFhMmVmMjI0MzcxYjI3YzA0NmVlZDlhMjI4YS5iaW5kUG9wdXAocG9wdXBfYmMyMGUzMmVjMzY4NGE2MDg5ZWJiY2E0MTBhY2UzZjMpOwoKICAgICAgICAgICAgCiAgICAgICAgCiAgICAKICAgICAgICAgICAgdmFyIGNpcmNsZV9tYXJrZXJfODg3ODg5N2Q0MTRkNGYxMGIyMjc3ZmE3ZWEyNDYzODggPSBMLmNpcmNsZU1hcmtlcigKICAgICAgICAgICAgICAgIFs0My42NDg0MjkyLC03OS4zODIyODAyXSwKICAgICAgICAgICAgICAgIHsKICAiYnViYmxpbmdNb3VzZUV2ZW50cyI6IHRydWUsIAogICJjb2xvciI6ICIjODAwMGZmIiwgCiAgImRhc2hBcnJheSI6IG51bGwsIAogICJkYXNoT2Zmc2V0IjogbnVsbCwgCiAgImZpbGwiOiB0cnVlLCAKICAiZmlsbENvbG9yIjogIiM4MDAwZmYiLCAKICAiZmlsbE9wYWNpdHkiOiAwLjcsIAogICJmaWxsUnVsZSI6ICJldmVub2RkIiwgCiAgImxpbmVDYXAiOiAicm91bmQiLCAKICAibGluZUpvaW4iOiAicm91bmQiLCAKICAib3BhY2l0eSI6IDEuMCwgCiAgInJhZGl1cyI6IDUsIAogICJzdHJva2UiOiB0cnVlLCAKICAid2VpZ2h0IjogMwp9CiAgICAgICAgICAgICAgICApLmFkZFRvKG1hcF9hYTNjZjA1MzIzM2Y0YWQ4YjViNzUxODcxOTVhMmFmNik7CiAgICAgICAgICAgIAogICAgCiAgICAgICAgICAgIHZhciBwb3B1cF9lOWViYzdmZmE5MmM0ZjEyYWFlOTM3MTJhMTg1M2I0ZCA9IEwucG9wdXAoe21heFdpZHRoOiAnMzAwJ30pOwoKICAgICAgICAgICAgCiAgICAgICAgICAgICAgICB2YXIgaHRtbF8wZDZhODAwMDJlZTk0ZjMyYjg2MjU1MTZiYmQwMzc4MyA9ICQoJzxkaXYgaWQ9Imh0bWxfMGQ2YTgwMDAyZWU5NGYzMmI4NjI1NTE2YmJkMDM3ODMiIHN0eWxlPSJ3aWR0aDogMTAwLjAlOyBoZWlnaHQ6IDEwMC4wJTsiPkZpcnN0IENhbmFkaWFuIFBsYWNlLCBVbmRlcmdyb3VuZCBjaXR5IENsdXN0ZXIgMTwvZGl2PicpWzBdOwogICAgICAgICAgICAgICAgcG9wdXBfZTllYmM3ZmZhOTJjNGYxMmFhZTkzNzEyYTE4NTNiNGQuc2V0Q29udGVudChodG1sXzBkNmE4MDAwMmVlOTRmMzJiODYyNTUxNmJiZDAzNzgzKTsKICAgICAgICAgICAgCgogICAgICAgICAgICBjaXJjbGVfbWFya2VyXzg4Nzg4OTdkNDE0ZDRmMTBiMjI3N2ZhN2VhMjQ2Mzg4LmJpbmRQb3B1cChwb3B1cF9lOWViYzdmZmE5MmM0ZjEyYWFlOTM3MTJhMTg1M2I0ZCk7CgogICAgICAgICAgICAKICAgICAgICAKICAgIAogICAgICAgICAgICB2YXIgY2lyY2xlX21hcmtlcl9kYWNjMGNkMWY1YmY0ZmFhYWY5ZTczYzczMmM5OTQ3ZiA9IEwuY2lyY2xlTWFya2VyKAogICAgICAgICAgICAgICAgWzQzLjY2NTg1OTksLTc5LjM4MzE1OTldLAogICAgICAgICAgICAgICAgewogICJidWJibGluZ01vdXNlRXZlbnRzIjogdHJ1ZSwgCiAgImNvbG9yIjogIiM4MDAwZmYiLCAKICAiZGFzaEFycmF5IjogbnVsbCwgCiAgImRhc2hPZmZzZXQiOiBudWxsLCAKICAiZmlsbCI6IHRydWUsIAogICJmaWxsQ29sb3IiOiAiIzgwMDBmZiIsIAogICJmaWxsT3BhY2l0eSI6IDAuNywgCiAgImZpbGxSdWxlIjogImV2ZW5vZGQiLCAKICAibGluZUNhcCI6ICJyb3VuZCIsIAogICJsaW5lSm9pbiI6ICJyb3VuZCIsIAogICJvcGFjaXR5IjogMS4wLCAKICAicmFkaXVzIjogNSwgCiAgInN0cm9rZSI6IHRydWUsIAogICJ3ZWlnaHQiOiAzCn0KICAgICAgICAgICAgICAgICkuYWRkVG8obWFwX2FhM2NmMDUzMjMzZjRhZDhiNWI3NTE4NzE5NWEyYWY2KTsKICAgICAgICAgICAgCiAgICAKICAgICAgICAgICAgdmFyIHBvcHVwX2NkYjdlNDk3OTU4MDQ4MzdhMDc2ZmNiOWE5MzUwNTE3ID0gTC5wb3B1cCh7bWF4V2lkdGg6ICczMDAnfSk7CgogICAgICAgICAgICAKICAgICAgICAgICAgICAgIHZhciBodG1sXzJkZjliMDc3ZWRmYTRjZmU5MzVlZmY5ZTM2ZmExY2M0ID0gJCgnPGRpdiBpZD0iaHRtbF8yZGY5YjA3N2VkZmE0Y2ZlOTM1ZWZmOWUzNmZhMWNjNCIgc3R5bGU9IndpZHRoOiAxMDAuMCU7IGhlaWdodDogMTAwLjAlOyI+Q2h1cmNoIGFuZCBXZWxsZXNsZXkgQ2x1c3RlciAxPC9kaXY+JylbMF07CiAgICAgICAgICAgICAgICBwb3B1cF9jZGI3ZTQ5Nzk1ODA0ODM3YTA3NmZjYjlhOTM1MDUxNy5zZXRDb250ZW50KGh0bWxfMmRmOWIwNzdlZGZhNGNmZTkzNWVmZjllMzZmYTFjYzQpOwogICAgICAgICAgICAKCiAgICAgICAgICAgIGNpcmNsZV9tYXJrZXJfZGFjYzBjZDFmNWJmNGZhYWFmOWU3M2M3MzJjOTk0N2YuYmluZFBvcHVwKHBvcHVwX2NkYjdlNDk3OTU4MDQ4MzdhMDc2ZmNiOWE5MzUwNTE3KTsKCiAgICAgICAgICAgIAogICAgICAgIAogICAgCiAgICAgICAgICAgIHZhciBjaXJjbGVfbWFya2VyX2M0ZTcyZGJlOGYwMTQ5YmNiMDE1MmNkMjExMmVjMmFjID0gTC5jaXJjbGVNYXJrZXIoCiAgICAgICAgICAgICAgICBbNDMuNjYyNzQzOSwtNzkuMzIxNTU4XSwKICAgICAgICAgICAgICAgIHsKICAiYnViYmxpbmdNb3VzZUV2ZW50cyI6IHRydWUsIAogICJjb2xvciI6ICIjZDRkZDgwIiwgCiAgImRhc2hBcnJheSI6IG51bGwsIAogICJkYXNoT2Zmc2V0IjogbnVsbCwgCiAgImZpbGwiOiB0cnVlLCAKICAiZmlsbENvbG9yIjogIiNkNGRkODAiLCAKICAiZmlsbE9wYWNpdHkiOiAwLjcsIAogICJmaWxsUnVsZSI6ICJldmVub2RkIiwgCiAgImxpbmVDYXAiOiAicm91bmQiLCAKICAibGluZUpvaW4iOiAicm91bmQiLCAKICAib3BhY2l0eSI6IDEuMCwgCiAgInJhZGl1cyI6IDUsIAogICJzdHJva2UiOiB0cnVlLCAKICAid2VpZ2h0IjogMwp9CiAgICAgICAgICAgICAgICApLmFkZFRvKG1hcF9hYTNjZjA1MzIzM2Y0YWQ4YjViNzUxODcxOTVhMmFmNik7CiAgICAgICAgICAgIAogICAgCiAgICAgICAgICAgIHZhciBwb3B1cF9lNjc3MGM2ZGYxNTk0MWZiYmVjNzA4NGMyZWU1YzQwOCA9IEwucG9wdXAoe21heFdpZHRoOiAnMzAwJ30pOwoKICAgICAgICAgICAgCiAgICAgICAgICAgICAgICB2YXIgaHRtbF80ZDJhODNiY2ZkNjQ0ZGU0OThmZWFiZmI5OTc1ZWYwZiA9ICQoJzxkaXYgaWQ9Imh0bWxfNGQyYTgzYmNmZDY0NGRlNDk4ZmVhYmZiOTk3NWVmMGYiIHN0eWxlPSJ3aWR0aDogMTAwLjAlOyBoZWlnaHQ6IDEwMC4wJTsiPkJ1c2luZXNzIHJlcGx5IG1haWwgUHJvY2Vzc2luZyBDZW50cmUsIFNvdXRoIENlbnRyYWwgTGV0dGVyIFByb2Nlc3NpbmcgUGxhbnQgVG9yb250byBDbHVzdGVyIDM8L2Rpdj4nKVswXTsKICAgICAgICAgICAgICAgIHBvcHVwX2U2NzcwYzZkZjE1OTQxZmJiZWM3MDg0YzJlZTVjNDA4LnNldENvbnRlbnQoaHRtbF80ZDJhODNiY2ZkNjQ0ZGU0OThmZWFiZmI5OTc1ZWYwZik7CiAgICAgICAgICAgIAoKICAgICAgICAgICAgY2lyY2xlX21hcmtlcl9jNGU3MmRiZThmMDE0OWJjYjAxNTJjZDIxMTJlYzJhYy5iaW5kUG9wdXAocG9wdXBfZTY3NzBjNmRmMTU5NDFmYmJlYzcwODRjMmVlNWM0MDgpOwoKICAgICAgICAgICAgCiAgICAgICAgCjwvc2NyaXB0Pg==\" style=\"position:absolute;width:100%;height:100%;left:0;top:0;border:none !important;\" allowfullscreen webkitallowfullscreen mozallowfullscreen></iframe></div></div>"
      ],
      "text/plain": [
       "<folium.folium.Map at 0xdf64048>"
      ]
     },
     "execution_count": 74,
     "metadata": {},
     "output_type": "execute_result"
    }
   ],
   "source": [
    "# create map\n",
    "map_clusters = folium.Map(location=[43.651070,-79.347015],zoom_start=12)\n",
    "\n",
    "# set color scheme for the clusters\n",
    "x = np.arange(k)\n",
    "ys = [i + x + (i*x)**2 for i in range(k)]\n",
    "colors_array = cm.rainbow(np.linspace(0, 1, len(ys)))\n",
    "rainbow = [colors.rgb2hex(i) for i in colors_array]\n",
    "\n",
    "# add markers to the map\n",
    "markers_colors = []\n",
    "for lat, lon, poi, cluster in zip(Toronto_data['Latitude'],Toronto_data['Longitude'],Toronto_data['Neighborhood'],Toronto_data['Cluster Labels']):\n",
    "    label = folium.Popup(str(poi) + ' Cluster ' + str(cluster), parse_html=True)\n",
    "    folium.CircleMarker(\n",
    "        [lat, lon],\n",
    "        radius=5,\n",
    "        popup=label,\n",
    "        color=rainbow[cluster-1],\n",
    "        fill=True,\n",
    "        fill_color=rainbow[cluster-1],\n",
    "        fill_opacity=0.7).add_to(map_clusters)\n",
    "       \n",
    "map_clusters"
   ]
  },
  {
   "cell_type": "code",
   "execution_count": null,
   "metadata": {
    "collapsed": true
   },
   "outputs": [],
   "source": []
  }
 ],
 "metadata": {
  "kernelspec": {
   "display_name": "Python 2",
   "language": "python",
   "name": "python2"
  },
  "language_info": {
   "codemirror_mode": {
    "name": "ipython",
    "version": 2
   },
   "file_extension": ".py",
   "mimetype": "text/x-python",
   "name": "python",
   "nbconvert_exporter": "python",
   "pygments_lexer": "ipython2",
   "version": "2.7.14"
  }
 },
 "nbformat": 4,
 "nbformat_minor": 2
}
