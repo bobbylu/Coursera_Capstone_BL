{
 "cells": [
  {
   "cell_type": "markdown",
   "metadata": {},
   "source": [
    "# The Battle of Neighborhoods -- Safe and Delicious Bronx"
   ]
  },
  {
   "cell_type": "markdown",
   "metadata": {},
   "source": [
    "## Introduction"
   ]
  },
  {
   "cell_type": "markdown",
   "metadata": {},
   "source": [
    "Bronx, NY, is home to a population of 1.43M people (U.S. Census Bureau, 2018). Between 2010 and 2018, Bronx experienced the largest change in population (3.4%) among the five boroughs in New York City (New York City Planning Department analysis). \n",
    "Meanwhile, Bronx remains to be one of the most diverse boroughs in New York City. In 2018, there were 1.12 times more Other (Hispanic) residents (464k people) in Bronx County, NY than any other race or ethnicity (Data USA). Hispanics (all races) accounts for 56.4% of the total population, while White non-Hispanic population were only 9% of the total. The most common foreign languages spoken in Bronx County, NY are Spanish, Yoruba, Twi, Igbo, or Other Languages of Western Africa, and French (Incl. Cajun).\n",
    "\n",
    "It is diversity and fairly low rent (compared to other boroughs) made it a popular landing spot for immigrants. And imagine, for this study, a Hispanic immigrant family is look for settle in Bronx, and the criteria the family is considering, other than job location, transportation access, housing prices, are safety and places to eat. So which neighborhoods in Bronx stand out? -- This is the problem this report is trying address."
   ]
  },
  {
   "cell_type": "markdown",
   "metadata": {},
   "source": [
    "## Data"
   ]
  },
  {
   "cell_type": "markdown",
   "metadata": {},
   "source": [
    "For this project we need the following data:\n",
    "\n",
    "1).\tNew York City Boroughs, Neighborhoods data\n",
    "\n",
    "Data source: https://data.cityofnewyork.us/City-Government/Neighborhood-Tabulation-Areas/cpf4-rkhq\n",
    "\n",
    "Description: I will use this dataset to get the neighborhood information of NYC, in particular Bronx.\n",
    "\n",
    "2).\tNew York City Crime data\n",
    "\n",
    "Data source: https://data.cityofnewyork.us/Public-Safety/Crime-Map-/5jvd-shfj\n",
    "\n",
    "Description: Crime data has location (lat and long) and categories\n",
    "\n",
    "3).\tNew York City Restaurants\n",
    "\n",
    "Data source: FourSquare API\n",
    "\n",
    "Description: By using this API we will get all the venues in each neighborhood. "
   ]
  },
  {
   "cell_type": "code",
   "execution_count": null,
   "metadata": {
    "collapsed": true
   },
   "outputs": [],
   "source": []
  }
 ],
 "metadata": {
  "kernelspec": {
   "display_name": "Python 2",
   "language": "python",
   "name": "python2"
  },
  "language_info": {
   "codemirror_mode": {
    "name": "ipython",
    "version": 2
   },
   "file_extension": ".py",
   "mimetype": "text/x-python",
   "name": "python",
   "nbconvert_exporter": "python",
   "pygments_lexer": "ipython2",
   "version": "2.7.14"
  }
 },
 "nbformat": 4,
 "nbformat_minor": 2
}
